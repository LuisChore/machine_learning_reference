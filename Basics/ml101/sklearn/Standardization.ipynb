{
  "nbformat": 4,
  "nbformat_minor": 0,
  "metadata": {
    "colab": {
      "name": "Standartization.ipynb",
      "provenance": [],
      "toc_visible": true,
      "authorship_tag": "ABX9TyNSnFRngC0TaU8mNshy5ElT"
    },
    "kernelspec": {
      "name": "python3",
      "display_name": "Python 3"
    },
    "language_info": {
      "name": "python"
    }
  },
  "cells": [
    {
      "cell_type": "markdown",
      "metadata": {
        "id": "vuVr4brCxzIA"
      },
      "source": [
        "# Feature Scaling (Standardization)\n",
        "\n",
        "$x = \\frac{x-\\mu}{\\sigma}$"
      ]
    },
    {
      "cell_type": "code",
      "metadata": {
        "id": "1eVPJy7pyokl"
      },
      "source": [
        "from sklearn.linear_model import LinearRegression\n",
        "\n",
        "import pandas as pd \n",
        "import numpy as np \n",
        "import matplotlib.pyplot as plt\n",
        "import seaborn as sns\n",
        "\n",
        "sns.set()"
      ],
      "execution_count": 4,
      "outputs": []
    },
    {
      "cell_type": "markdown",
      "metadata": {
        "id": "NsDLXiCTyqBd"
      },
      "source": [
        "## Load Data"
      ]
    },
    {
      "cell_type": "code",
      "metadata": {
        "colab": {
          "base_uri": "https://localhost:8080/"
        },
        "id": "V4hPEhknys0J",
        "outputId": "41264fea-1b4d-4e0f-8a27-39273e0a6289"
      },
      "source": [
        "# to have access to my drive\n",
        "from google.colab import drive\n",
        "drive.mount('/content/gdrive')"
      ],
      "execution_count": 2,
      "outputs": [
        {
          "output_type": "stream",
          "name": "stdout",
          "text": [
            "Mounted at /content/gdrive\n"
          ]
        }
      ]
    },
    {
      "cell_type": "code",
      "metadata": {
        "colab": {
          "base_uri": "https://localhost:8080/",
          "height": 206
        },
        "id": "wuPCix96zlCl",
        "outputId": "9b3fe582-c0c3-44b9-b7ce-241acabd7565"
      },
      "source": [
        "df = pd.read_csv('/content/gdrive/MyDrive/Colab Notebooks/ml101/1.02. Multiple linear regression.csv')\n",
        "df.head()"
      ],
      "execution_count": 5,
      "outputs": [
        {
          "output_type": "execute_result",
          "data": {
            "text/html": [
              "<div>\n",
              "<style scoped>\n",
              "    .dataframe tbody tr th:only-of-type {\n",
              "        vertical-align: middle;\n",
              "    }\n",
              "\n",
              "    .dataframe tbody tr th {\n",
              "        vertical-align: top;\n",
              "    }\n",
              "\n",
              "    .dataframe thead th {\n",
              "        text-align: right;\n",
              "    }\n",
              "</style>\n",
              "<table border=\"1\" class=\"dataframe\">\n",
              "  <thead>\n",
              "    <tr style=\"text-align: right;\">\n",
              "      <th></th>\n",
              "      <th>SAT</th>\n",
              "      <th>GPA</th>\n",
              "      <th>Rand 1,2,3</th>\n",
              "    </tr>\n",
              "  </thead>\n",
              "  <tbody>\n",
              "    <tr>\n",
              "      <th>0</th>\n",
              "      <td>1714</td>\n",
              "      <td>2.40</td>\n",
              "      <td>1</td>\n",
              "    </tr>\n",
              "    <tr>\n",
              "      <th>1</th>\n",
              "      <td>1664</td>\n",
              "      <td>2.52</td>\n",
              "      <td>3</td>\n",
              "    </tr>\n",
              "    <tr>\n",
              "      <th>2</th>\n",
              "      <td>1760</td>\n",
              "      <td>2.54</td>\n",
              "      <td>3</td>\n",
              "    </tr>\n",
              "    <tr>\n",
              "      <th>3</th>\n",
              "      <td>1685</td>\n",
              "      <td>2.74</td>\n",
              "      <td>3</td>\n",
              "    </tr>\n",
              "    <tr>\n",
              "      <th>4</th>\n",
              "      <td>1693</td>\n",
              "      <td>2.83</td>\n",
              "      <td>2</td>\n",
              "    </tr>\n",
              "  </tbody>\n",
              "</table>\n",
              "</div>"
            ],
            "text/plain": [
              "    SAT   GPA  Rand 1,2,3\n",
              "0  1714  2.40           1\n",
              "1  1664  2.52           3\n",
              "2  1760  2.54           3\n",
              "3  1685  2.74           3\n",
              "4  1693  2.83           2"
            ]
          },
          "metadata": {},
          "execution_count": 5
        }
      ]
    },
    {
      "cell_type": "markdown",
      "metadata": {
        "id": "ZQg8_lo2z2OM"
      },
      "source": [
        "## Inputs & Output"
      ]
    },
    {
      "cell_type": "code",
      "metadata": {
        "id": "6eukVvCbz8qI"
      },
      "source": [
        "x = df[['SAT','Rand 1,2,3']]\n",
        "y = df['GPA']\n",
        "\n",
        "# here we don't change the shapte, it's already 2D"
      ],
      "execution_count": 18,
      "outputs": []
    },
    {
      "cell_type": "markdown",
      "metadata": {
        "id": "hpCpRadc0SyA"
      },
      "source": [
        "## Standarization"
      ]
    },
    {
      "cell_type": "code",
      "metadata": {
        "id": "wTiY3fZo0RZh"
      },
      "source": [
        "from sklearn.preprocessing import StandardScaler\n",
        "scaler = StandardScaler()"
      ],
      "execution_count": 19,
      "outputs": []
    },
    {
      "cell_type": "code",
      "metadata": {
        "colab": {
          "base_uri": "https://localhost:8080/"
        },
        "id": "pEZ39fOM0kRF",
        "outputId": "59f26e2b-f820-45b3-d516-fa7c168125ac"
      },
      "source": [
        "#it calculates the mean, and standard deviation of each feature\n",
        "scaler.fit(x) "
      ],
      "execution_count": 20,
      "outputs": [
        {
          "output_type": "execute_result",
          "data": {
            "text/plain": [
              "StandardScaler(copy=True, with_mean=True, with_std=True)"
            ]
          },
          "metadata": {},
          "execution_count": 20
        }
      ]
    },
    {
      "cell_type": "code",
      "metadata": {
        "id": "XO-yOwI81Khw"
      },
      "source": [
        "# the input data has been standarized\n",
        "x_scaled = scaler.transform(x) "
      ],
      "execution_count": 21,
      "outputs": []
    },
    {
      "cell_type": "markdown",
      "metadata": {
        "id": "_8NTbRlJ21F-"
      },
      "source": [
        "## Regression"
      ]
    },
    {
      "cell_type": "code",
      "metadata": {
        "colab": {
          "base_uri": "https://localhost:8080/"
        },
        "id": "PIqQSiJi23FC",
        "outputId": "01d2f8fb-7d55-4652-8aa6-bfadb7c41ea7"
      },
      "source": [
        "model = LinearRegression()\n",
        "model.fit(x_scaled,y)"
      ],
      "execution_count": 22,
      "outputs": [
        {
          "output_type": "execute_result",
          "data": {
            "text/plain": [
              "LinearRegression(copy_X=True, fit_intercept=True, n_jobs=None, normalize=False)"
            ]
          },
          "metadata": {},
          "execution_count": 22
        }
      ]
    },
    {
      "cell_type": "markdown",
      "metadata": {
        "id": "_ggpZr0_3LHw"
      },
      "source": [
        "## Model Summary"
      ]
    },
    {
      "cell_type": "code",
      "metadata": {
        "id": "UWJpQl9T4T-i"
      },
      "source": [
        "model_summary = pd.DataFrame(data=['Bias','SAT','Rand 1,2,3'],columns= ['Features'])"
      ],
      "execution_count": 39,
      "outputs": []
    },
    {
      "cell_type": "code",
      "metadata": {
        "colab": {
          "base_uri": "https://localhost:8080/",
          "height": 143
        },
        "id": "ik7vZC8r4ZKk",
        "outputId": "0ad105d5-f74e-4ba6-8c79-d159193f756a"
      },
      "source": [
        "model_summary['Weights'] = model.intercept_,model.coef_[0],model.coef_[1]\n",
        "model_summary"
      ],
      "execution_count": 40,
      "outputs": [
        {
          "output_type": "execute_result",
          "data": {
            "text/html": [
              "<div>\n",
              "<style scoped>\n",
              "    .dataframe tbody tr th:only-of-type {\n",
              "        vertical-align: middle;\n",
              "    }\n",
              "\n",
              "    .dataframe tbody tr th {\n",
              "        vertical-align: top;\n",
              "    }\n",
              "\n",
              "    .dataframe thead th {\n",
              "        text-align: right;\n",
              "    }\n",
              "</style>\n",
              "<table border=\"1\" class=\"dataframe\">\n",
              "  <thead>\n",
              "    <tr style=\"text-align: right;\">\n",
              "      <th></th>\n",
              "      <th>Features</th>\n",
              "      <th>Weights</th>\n",
              "    </tr>\n",
              "  </thead>\n",
              "  <tbody>\n",
              "    <tr>\n",
              "      <th>0</th>\n",
              "      <td>Bias</td>\n",
              "      <td>3.330238</td>\n",
              "    </tr>\n",
              "    <tr>\n",
              "      <th>1</th>\n",
              "      <td>SAT</td>\n",
              "      <td>0.171814</td>\n",
              "    </tr>\n",
              "    <tr>\n",
              "      <th>2</th>\n",
              "      <td>Rand 1,2,3</td>\n",
              "      <td>-0.007030</td>\n",
              "    </tr>\n",
              "  </tbody>\n",
              "</table>\n",
              "</div>"
            ],
            "text/plain": [
              "     Features   Weights\n",
              "0        Bias  3.330238\n",
              "1         SAT  0.171814\n",
              "2  Rand 1,2,3 -0.007030"
            ]
          },
          "metadata": {},
          "execution_count": 40
        }
      ]
    },
    {
      "cell_type": "markdown",
      "metadata": {
        "id": "LyLqZwEV6nmG"
      },
      "source": [
        "## Predictions\n"
      ]
    },
    {
      "cell_type": "code",
      "metadata": {
        "colab": {
          "base_uri": "https://localhost:8080/",
          "height": 112
        },
        "id": "C7hvGxz06qbA",
        "outputId": "94dde00d-ec0d-4e91-abf7-6ef21b2f5046"
      },
      "source": [
        "new_data = pd.DataFrame(data = [[1700,2],[1800,1]],columns=['SAT','Rand 1,2,3'])\n",
        "new_data # the order must be the same as the input"
      ],
      "execution_count": 47,
      "outputs": [
        {
          "output_type": "execute_result",
          "data": {
            "text/html": [
              "<div>\n",
              "<style scoped>\n",
              "    .dataframe tbody tr th:only-of-type {\n",
              "        vertical-align: middle;\n",
              "    }\n",
              "\n",
              "    .dataframe tbody tr th {\n",
              "        vertical-align: top;\n",
              "    }\n",
              "\n",
              "    .dataframe thead th {\n",
              "        text-align: right;\n",
              "    }\n",
              "</style>\n",
              "<table border=\"1\" class=\"dataframe\">\n",
              "  <thead>\n",
              "    <tr style=\"text-align: right;\">\n",
              "      <th></th>\n",
              "      <th>SAT</th>\n",
              "      <th>Rand 1,2,3</th>\n",
              "    </tr>\n",
              "  </thead>\n",
              "  <tbody>\n",
              "    <tr>\n",
              "      <th>0</th>\n",
              "      <td>1700</td>\n",
              "      <td>2</td>\n",
              "    </tr>\n",
              "    <tr>\n",
              "      <th>1</th>\n",
              "      <td>1800</td>\n",
              "      <td>1</td>\n",
              "    </tr>\n",
              "  </tbody>\n",
              "</table>\n",
              "</div>"
            ],
            "text/plain": [
              "    SAT  Rand 1,2,3\n",
              "0  1700           2\n",
              "1  1800           1"
            ]
          },
          "metadata": {},
          "execution_count": 47
        }
      ]
    },
    {
      "cell_type": "markdown",
      "metadata": {
        "id": "db_amcAv8DLr"
      },
      "source": [
        "### Scale new data"
      ]
    },
    {
      "cell_type": "code",
      "metadata": {
        "id": "G14Iqehr7k78"
      },
      "source": [
        "new_input = new_data[['SAT','Rand 1,2,3']]\n",
        "new_input_scaled = scaler.transform(new_input)"
      ],
      "execution_count": 48,
      "outputs": []
    },
    {
      "cell_type": "markdown",
      "metadata": {
        "id": "N9ptrEfq8Gjf"
      },
      "source": [
        "### Perform predictions"
      ]
    },
    {
      "cell_type": "code",
      "metadata": {
        "colab": {
          "base_uri": "https://localhost:8080/"
        },
        "id": "yje0W7d7779Q",
        "outputId": "fd92efd2-2709-4ebb-b55d-8d91ccf137a8"
      },
      "source": [
        "model.predict(new_input_scaled)"
      ],
      "execution_count": 49,
      "outputs": [
        {
          "output_type": "execute_result",
          "data": {
            "text/plain": [
              "array([3.09051403, 3.26413803])"
            ]
          },
          "metadata": {},
          "execution_count": 49
        }
      ]
    }
  ]
}