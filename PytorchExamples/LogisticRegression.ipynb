{
  "nbformat": 4,
  "nbformat_minor": 0,
  "metadata": {
    "colab": {
      "name": "LogisticRegression.ipynb",
      "provenance": [],
      "authorship_tag": "ABX9TyOHv8YJZmJ8KIVbWp2oQich"
    },
    "kernelspec": {
      "name": "python3",
      "display_name": "Python 3"
    },
    "language_info": {
      "name": "python"
    }
  },
  "cells": [
    {
      "cell_type": "markdown",
      "source": [
        "# Logistic Regression (Classification)"
      ],
      "metadata": {
        "id": "H3J2XzEte5vF"
      }
    },
    {
      "cell_type": "markdown",
      "source": [
        "## 01. Load Data"
      ],
      "metadata": {
        "id": "oo6yMScWe967"
      }
    },
    {
      "cell_type": "code",
      "execution_count": 1,
      "metadata": {
        "id": "cVFfVk9re4we"
      },
      "outputs": [],
      "source": [
        "import numpy as np \n",
        "import pandas as pd \n",
        "import torch \n",
        "import torch.nn as nn\n",
        "import matplotlib.pyplot as plt"
      ]
    },
    {
      "cell_type": "code",
      "source": [
        "from sklearn.datasets import load_breast_cancer\n",
        "data = load_breast_cancer()"
      ],
      "metadata": {
        "id": "6dw1-atSfPk4"
      },
      "execution_count": 2,
      "outputs": []
    },
    {
      "cell_type": "markdown",
      "source": [
        "## 02. Analyze Data"
      ],
      "metadata": {
        "id": "W0rLy7CXfdWn"
      }
    },
    {
      "cell_type": "code",
      "source": [
        "type(data)"
      ],
      "metadata": {
        "colab": {
          "base_uri": "https://localhost:8080/"
        },
        "id": "mH9JG4IcfjpP",
        "outputId": "0fc53433-f7b0-4232-ffd6-4bb26ac677e4"
      },
      "execution_count": 3,
      "outputs": [
        {
          "output_type": "execute_result",
          "data": {
            "text/plain": [
              "sklearn.utils.Bunch"
            ]
          },
          "metadata": {},
          "execution_count": 3
        }
      ]
    },
    {
      "cell_type": "code",
      "source": [
        "data.keys()"
      ],
      "metadata": {
        "colab": {
          "base_uri": "https://localhost:8080/"
        },
        "id": "SiRzhXC-hVeG",
        "outputId": "2a42ca6a-1124-4aa6-e3a5-b7fa5f8de2db"
      },
      "execution_count": 4,
      "outputs": [
        {
          "output_type": "execute_result",
          "data": {
            "text/plain": [
              "dict_keys(['data', 'target', 'frame', 'target_names', 'DESCR', 'feature_names', 'filename', 'data_module'])"
            ]
          },
          "metadata": {},
          "execution_count": 4
        }
      ]
    },
    {
      "cell_type": "markdown",
      "source": [
        "### Features"
      ],
      "metadata": {
        "id": "wVJ_FBZrhmVX"
      }
    },
    {
      "cell_type": "code",
      "source": [
        "data.feature_names"
      ],
      "metadata": {
        "colab": {
          "base_uri": "https://localhost:8080/"
        },
        "id": "n6G_TOZYhoGM",
        "outputId": "dc9f76be-321f-4372-fd65-dcbbe08d8545"
      },
      "execution_count": 5,
      "outputs": [
        {
          "output_type": "execute_result",
          "data": {
            "text/plain": [
              "array(['mean radius', 'mean texture', 'mean perimeter', 'mean area',\n",
              "       'mean smoothness', 'mean compactness', 'mean concavity',\n",
              "       'mean concave points', 'mean symmetry', 'mean fractal dimension',\n",
              "       'radius error', 'texture error', 'perimeter error', 'area error',\n",
              "       'smoothness error', 'compactness error', 'concavity error',\n",
              "       'concave points error', 'symmetry error',\n",
              "       'fractal dimension error', 'worst radius', 'worst texture',\n",
              "       'worst perimeter', 'worst area', 'worst smoothness',\n",
              "       'worst compactness', 'worst concavity', 'worst concave points',\n",
              "       'worst symmetry', 'worst fractal dimension'], dtype='<U23')"
            ]
          },
          "metadata": {},
          "execution_count": 5
        }
      ]
    },
    {
      "cell_type": "code",
      "source": [
        "data.target_names"
      ],
      "metadata": {
        "colab": {
          "base_uri": "https://localhost:8080/"
        },
        "id": "ljRvEjDShs9P",
        "outputId": "136c3b32-e329-4485-cf57-6e8617d66e1a"
      },
      "execution_count": 6,
      "outputs": [
        {
          "output_type": "execute_result",
          "data": {
            "text/plain": [
              "array(['malignant', 'benign'], dtype='<U9')"
            ]
          },
          "metadata": {},
          "execution_count": 6
        }
      ]
    },
    {
      "cell_type": "code",
      "source": [
        "X,Y = data.data,data.target \n",
        "N,D = X.shape\n",
        "(N,D)"
      ],
      "metadata": {
        "colab": {
          "base_uri": "https://localhost:8080/"
        },
        "id": "Rp-ssnXNhXvl",
        "outputId": "5e1a6e25-d017-43e2-c2c4-a679c8fc00e8"
      },
      "execution_count": 7,
      "outputs": [
        {
          "output_type": "execute_result",
          "data": {
            "text/plain": [
              "(569, 30)"
            ]
          },
          "metadata": {},
          "execution_count": 7
        }
      ]
    },
    {
      "cell_type": "code",
      "source": [
        "#(num_samples x num_dimensions)\n",
        "X = X.reshape(N,D)\n",
        "Y = Y.reshape(N,1)"
      ],
      "metadata": {
        "id": "GkJmF83vlBoF"
      },
      "execution_count": 8,
      "outputs": []
    },
    {
      "cell_type": "markdown",
      "source": [
        "## 03. Preprocess Data"
      ],
      "metadata": {
        "id": "1x410gmWfkO6"
      }
    },
    {
      "cell_type": "markdown",
      "source": [
        "### Split Data"
      ],
      "metadata": {
        "id": "ti1Cx4hHlv0X"
      }
    },
    {
      "cell_type": "code",
      "source": [
        "from sklearn.model_selection import train_test_split\n",
        "X_train,X_test,Y_train,Y_test = train_test_split(X,Y,test_size = 0.33)"
      ],
      "metadata": {
        "id": "SsoO9xNHfmRu"
      },
      "execution_count": 9,
      "outputs": []
    },
    {
      "cell_type": "code",
      "source": [
        "(X_train.shape,Y_train.shape)"
      ],
      "metadata": {
        "colab": {
          "base_uri": "https://localhost:8080/"
        },
        "id": "XWKCWfwmmI68",
        "outputId": "f4168d66-b56b-4208-c7e5-403dc36bef56"
      },
      "execution_count": 10,
      "outputs": [
        {
          "output_type": "execute_result",
          "data": {
            "text/plain": [
              "((381, 30), (381, 1))"
            ]
          },
          "metadata": {},
          "execution_count": 10
        }
      ]
    },
    {
      "cell_type": "code",
      "source": [
        "(X_test.shape,Y_test.shape)"
      ],
      "metadata": {
        "colab": {
          "base_uri": "https://localhost:8080/"
        },
        "id": "UW_FomkwmPQs",
        "outputId": "e2c0f681-a832-4fa5-9704-9a79b60ad68f"
      },
      "execution_count": 11,
      "outputs": [
        {
          "output_type": "execute_result",
          "data": {
            "text/plain": [
              "((188, 30), (188, 1))"
            ]
          },
          "metadata": {},
          "execution_count": 11
        }
      ]
    },
    {
      "cell_type": "markdown",
      "source": [
        "### Scale the Data"
      ],
      "metadata": {
        "id": "DP8c5sOimWHe"
      }
    },
    {
      "cell_type": "code",
      "source": [
        "from sklearn.preprocessing import StandardScaler"
      ],
      "metadata": {
        "id": "hAoVVwptltnd"
      },
      "execution_count": 12,
      "outputs": []
    },
    {
      "cell_type": "code",
      "source": [
        "#scale training data\n",
        "scaler = StandardScaler()\n",
        "X_train_scaled = scaler.fit_transform(X_train)"
      ],
      "metadata": {
        "id": "rMb6J9Komfjc"
      },
      "execution_count": 13,
      "outputs": []
    },
    {
      "cell_type": "code",
      "source": [
        "#scale testing data\n",
        "X_test_scaled = scaler.transform(X_test)"
      ],
      "metadata": {
        "id": "pUDaI0Jqmiad"
      },
      "execution_count": 14,
      "outputs": []
    },
    {
      "cell_type": "markdown",
      "source": [
        "## 04. Create Model"
      ],
      "metadata": {
        "id": "AoVnjTvWfm1q"
      }
    },
    {
      "cell_type": "markdown",
      "source": [
        "### Linear Binary Classification Model "
      ],
      "metadata": {
        "id": "dulHSgAKiAoW"
      }
    },
    {
      "cell_type": "markdown",
      "source": [
        "$ a = w_1x_1 + w_2x_2 + b$\n",
        "\n",
        "$if\\; a \\geq 0 \\rightarrow 1$\n",
        "\n",
        "$if\\; a < 0 \\rightarrow 0 $"
      ],
      "metadata": {
        "id": "o-Q4kxy6iGre"
      }
    },
    {
      "cell_type": "markdown",
      "source": [
        "### Sigmod Function \n",
        "\n",
        "Probability Interpratation. Output range $(0,1)$\n",
        "\n",
        "Every Linear Function putting in top of it the sigmoid function, it becomes a **Logistic Function**"
      ],
      "metadata": {
        "id": "QLnEx8u9ju2F"
      }
    },
    {
      "cell_type": "code",
      "source": [
        "model = nn.Sequential(\n",
        "    nn.Linear(D,1),\n",
        "    nn.Sigmoid()\n",
        ")"
      ],
      "metadata": {
        "id": "lLwJmyjUfuV4"
      },
      "execution_count": 15,
      "outputs": []
    },
    {
      "cell_type": "markdown",
      "source": [
        "### Loss Function"
      ],
      "metadata": {
        "id": "jAIR_xBAkMXd"
      }
    },
    {
      "cell_type": "markdown",
      "source": [
        "Binary Cross-Entropy Loss"
      ],
      "metadata": {
        "id": "8vrzCV4ekOtn"
      }
    },
    {
      "cell_type": "code",
      "source": [
        "criterion = nn.BCELoss()"
      ],
      "metadata": {
        "id": "sltYgYv-jhAT"
      },
      "execution_count": 16,
      "outputs": []
    },
    {
      "cell_type": "markdown",
      "source": [
        "### Optimizer"
      ],
      "metadata": {
        "id": "J6D535ffoXm-"
      }
    },
    {
      "cell_type": "markdown",
      "source": [
        "Adam Optimizer "
      ],
      "metadata": {
        "id": "bLGZKAWXob5C"
      }
    },
    {
      "cell_type": "code",
      "source": [
        "optimizer = torch.optim.Adam(model.parameters())"
      ],
      "metadata": {
        "id": "jOYM4802oZxq"
      },
      "execution_count": 17,
      "outputs": []
    },
    {
      "cell_type": "markdown",
      "source": [
        "## 05. Train Model "
      ],
      "metadata": {
        "id": "MaDZkY86fuzb"
      }
    },
    {
      "cell_type": "markdown",
      "source": [
        "### Change inputs/outputs to torch tensors"
      ],
      "metadata": {
        "id": "SVU0dWddlmwq"
      }
    },
    {
      "cell_type": "code",
      "source": [
        "'''\n",
        "Pytorch does not work with Numpy Arrays, but with Torch Tensors\n",
        "Pytorch uses float32 by default, Numpy Creates float64 by default \n",
        "'''\n",
        "inputs = torch.from_numpy(X_train_scaled.astype(np.float32))\n",
        "targets = torch.from_numpy(Y_train.astype(np.float32))"
      ],
      "metadata": {
        "id": "BrM59YvNm_AT"
      },
      "execution_count": 18,
      "outputs": []
    },
    {
      "cell_type": "code",
      "source": [
        "test_inputs = torch.from_numpy(X_test_scaled.astype(np.float32))\n",
        "test_targets = torch.from_numpy(Y_test.astype(np.float32))"
      ],
      "metadata": {
        "id": "zeUyOglKuDPz"
      },
      "execution_count": 19,
      "outputs": []
    },
    {
      "cell_type": "code",
      "source": [
        "n_epochs = 1000 \n",
        "train_losses = []\n",
        "test_losses = []"
      ],
      "metadata": {
        "id": "yqkOwr9Yln8N"
      },
      "execution_count": 20,
      "outputs": []
    },
    {
      "cell_type": "code",
      "source": [
        "\n",
        "for it in range(n_epochs):\n",
        "  #zero the parameter gradients\n",
        "  optimizer.zero_grad()\n",
        "\n",
        "  #forward\n",
        "  outputs = model(inputs)\n",
        "  loss = criterion(outputs,targets)\n",
        "\n",
        "  #test loss \n",
        "  outputs_test = model(test_inputs)\n",
        "  loss_test = criterion(outputs_test,test_targets)\n",
        "\n",
        "  train_losses.append(loss.item())\n",
        "  test_losses.append(loss_test.item())\n",
        "\n",
        "  #backward & optimize\n",
        "  loss.backward()\n",
        "  optimizer.step()\n"
      ],
      "metadata": {
        "id": "LYIQwo71gxOX"
      },
      "execution_count": 21,
      "outputs": []
    },
    {
      "cell_type": "code",
      "source": [
        "plt.plot(train_losses,label = \"Train Loss\")\n",
        "plt.plot(test_losses,label = \"Test Loss\")\n",
        "plt.legend()\n",
        "plt.show()"
      ],
      "metadata": {
        "colab": {
          "base_uri": "https://localhost:8080/",
          "height": 265
        },
        "id": "tDADX8h3rNpD",
        "outputId": "d08caf60-65a7-4227-e1e4-8178c122e0a5"
      },
      "execution_count": 22,
      "outputs": [
        {
          "output_type": "display_data",
          "data": {
            "image/png": "[encoded data removed]",
            "text/plain": [
              "<Figure size 432x288 with 1 Axes>"
            ]
          },
          "metadata": {
            "needs_background": "light"
          }
        }
      ]
    },
    {
      "cell_type": "markdown",
      "source": [
        "## 06. Make Predictions"
      ],
      "metadata": {
        "id": "jJ-3NMBYgyXL"
      }
    },
    {
      "cell_type": "code",
      "source": [
        "#get accuracy\n",
        "with torch.no_grad():\n",
        "  p_train = model(inputs)\n",
        "  p_train = np.round(p_train.numpy())\n",
        "  train_acc = np.mean(targets.numpy() == p_train)\n",
        "\n",
        "train_acc"
      ],
      "metadata": {
        "colab": {
          "base_uri": "https://localhost:8080/"
        },
        "id": "Zmj73Co8g1nP",
        "outputId": "99478e99-53aa-44e2-abdb-aae0270796bd"
      },
      "execution_count": 23,
      "outputs": [
        {
          "output_type": "execute_result",
          "data": {
            "text/plain": [
              "0.979002624671916"
            ]
          },
          "metadata": {},
          "execution_count": 23
        }
      ]
    },
    {
      "cell_type": "markdown",
      "source": [
        "## 07. Evaluate Model"
      ],
      "metadata": {
        "id": "7VjMpkXCg2Rf"
      }
    },
    {
      "cell_type": "markdown",
      "source": [
        "$accuracy = \\frac{correct}{total}$"
      ],
      "metadata": {
        "id": "NBzigzu7g5m2"
      }
    },
    {
      "cell_type": "code",
      "source": [
        "#get accuracy\n",
        "with torch.no_grad():\n",
        "  p_test = model(test_inputs)\n",
        "  p_test = np.round(p_test.numpy())\n",
        "  test_acc = np.mean(test_targets.numpy() == p_test)\n",
        "\n",
        "test_acc"
      ],
      "metadata": {
        "colab": {
          "base_uri": "https://localhost:8080/"
        },
        "id": "2TWcWz3ug4dn",
        "outputId": "0d76acfa-10be-42d7-8e7b-03afe585c905"
      },
      "execution_count": 24,
      "outputs": [
        {
          "output_type": "execute_result",
          "data": {
            "text/plain": [
              "0.973404255319149"
            ]
          },
          "metadata": {},
          "execution_count": 24
        }
      ]
    },
    {
      "cell_type": "code",
      "source": [
        "print(f'Train accuracy: {train_acc:0.4},Test accuracy: {test_acc:0.4}')"
      ],
      "metadata": {
        "colab": {
          "base_uri": "https://localhost:8080/"
        },
        "id": "_0Y-d-J8wzZ8",
        "outputId": "10909bf8-f82e-448b-f0f6-06a53ab04c18"
      },
      "execution_count": 25,
      "outputs": [
        {
          "output_type": "stream",
          "name": "stdout",
          "text": [
            "Train accuracy: 0.979,Test accuracy: 0.9734\n"
          ]
        }
      ]
    },
    {
      "cell_type": "markdown",
      "source": [
        "## 08. Save and Load Data"
      ],
      "metadata": {
        "id": "r62g8w6QrxOi"
      }
    },
    {
      "cell_type": "markdown",
      "source": [
        "### Save"
      ],
      "metadata": {
        "id": "fhLff_dqzNgU"
      }
    },
    {
      "cell_type": "code",
      "source": [
        "#ordered dictionary\n",
        "model.state_dict()"
      ],
      "metadata": {
        "colab": {
          "base_uri": "https://localhost:8080/"
        },
        "id": "9rnbzDpLr2Hw",
        "outputId": "8d289ad0-aee7-485f-eeaf-f2f662dcf0c0"
      },
      "execution_count": 26,
      "outputs": [
        {
          "output_type": "execute_result",
          "data": {
            "text/plain": [
              "OrderedDict([('0.weight',\n",
              "              tensor([[-0.1508, -0.2662, -0.4057, -0.4343, -0.3172, -0.3165, -0.1799, -0.4275,\n",
              "                       -0.1576,  0.5342, -0.2567, -0.1242, -0.3573, -0.4940,  0.1829,  0.1717,\n",
              "                        0.1940, -0.2416,  0.1650,  0.6361, -0.2158, -0.4852, -0.1893, -0.2817,\n",
              "                       -0.2271, -0.1814, -0.4855, -0.2868, -0.2959, -0.5471]])),\n",
              "             ('0.bias', tensor([0.4559]))])"
            ]
          },
          "metadata": {},
          "execution_count": 26
        }
      ]
    },
    {
      "cell_type": "code",
      "source": [
        "#save the model\n",
        "torch.save(model.state_dict(),'mymodel.pt')"
      ],
      "metadata": {
        "id": "qSCcSGwmy_hf"
      },
      "execution_count": 27,
      "outputs": []
    },
    {
      "cell_type": "code",
      "source": [
        "!ls"
      ],
      "metadata": {
        "colab": {
          "base_uri": "https://localhost:8080/"
        },
        "id": "Sd7ng83XzFU_",
        "outputId": "2c7f78e3-3a41-4333-88c5-7daa4a6d5cf7"
      },
      "execution_count": 28,
      "outputs": [
        {
          "output_type": "stream",
          "name": "stdout",
          "text": [
            "mymodel.pt  sample_data\n"
          ]
        }
      ]
    },
    {
      "cell_type": "markdown",
      "source": [
        "### Load"
      ],
      "metadata": {
        "id": "uKOISceXzQQw"
      }
    },
    {
      "cell_type": "code",
      "source": [
        "#recreate..\n",
        "model2 = nn.Sequential(\n",
        "    nn.Linear(D,1),\n",
        "    nn.Sigmoid()\n",
        ")\n",
        "model2.load_state_dict(torch.load('mymodel.pt'))"
      ],
      "metadata": {
        "colab": {
          "base_uri": "https://localhost:8080/"
        },
        "id": "5lWEulh7zJcK",
        "outputId": "f479de2d-fb56-47a9-a88e-ff03c8fb5a81"
      },
      "execution_count": 29,
      "outputs": [
        {
          "output_type": "execute_result",
          "data": {
            "text/plain": [
              "<All keys matched successfully>"
            ]
          },
          "metadata": {},
          "execution_count": 29
        }
      ]
    },
    {
      "cell_type": "code",
      "source": [
        "with torch.no_grad():\n",
        "  p_test = model2(test_inputs)\n",
        "  p_test = np.round(p_test.numpy())\n",
        "  test_acc = np.mean(test_targets.numpy() == p_test)\n",
        "test_acc "
      ],
      "metadata": {
        "colab": {
          "base_uri": "https://localhost:8080/"
        },
        "id": "WHf5QKuVzonh",
        "outputId": "c286e699-715b-44df-b77e-fde2a9cbebd3"
      },
      "execution_count": 30,
      "outputs": [
        {
          "output_type": "execute_result",
          "data": {
            "text/plain": [
              "0.973404255319149"
            ]
          },
          "metadata": {},
          "execution_count": 30
        }
      ]
    },
    {
      "cell_type": "markdown",
      "source": [
        "### Download"
      ],
      "metadata": {
        "id": "fVVAawvK0PC8"
      }
    },
    {
      "cell_type": "code",
      "source": [
        "from google.colab import files \n",
        "files.download('mymodel.pt')"
      ],
      "metadata": {
        "colab": {
          "base_uri": "https://localhost:8080/",
          "height": 17
        },
        "id": "HBPNfL_l0Oba",
        "outputId": "215e9a24-0a99-48cc-aab2-6ffb1b4756df"
      },
      "execution_count": 31,
      "outputs": [
        {
          "output_type": "display_data",
          "data": {
            "application/javascript": [
              "\n",
              "    async function download(id, filename, size) {\n",
              "      if (!google.colab.kernel.accessAllowed) {\n",
              "        return;\n",
              "      }\n",
              "      const div = document.createElement('div');\n",
              "      const label = document.createElement('label');\n",
              "      label.textContent = `Downloading \"${filename}\": `;\n",
              "      div.appendChild(label);\n",
              "      const progress = document.createElement('progress');\n",
              "      progress.max = size;\n",
              "      div.appendChild(progress);\n",
              "      document.body.appendChild(div);\n",
              "\n",
              "      const buffers = [];\n",
              "      let downloaded = 0;\n",
              "\n",
              "      const channel = await google.colab.kernel.comms.open(id);\n",
              "      // Send a message to notify the kernel that we're ready.\n",
              "      channel.send({})\n",
              "\n",
              "      for await (const message of channel.messages) {\n",
              "        // Send a message to notify the kernel that we're ready.\n",
              "        channel.send({})\n",
              "        if (message.buffers) {\n",
              "          for (const buffer of message.buffers) {\n",
              "            buffers.push(buffer);\n",
              "            downloaded += buffer.byteLength;\n",
              "            progress.value = downloaded;\n",
              "          }\n",
              "        }\n",
              "      }\n",
              "      const blob = new Blob(buffers, {type: 'application/binary'});\n",
              "      const a = document.createElement('a');\n",
              "      a.href = window.URL.createObjectURL(blob);\n",
              "      a.download = filename;\n",
              "      div.appendChild(a);\n",
              "      a.click();\n",
              "      div.remove();\n",
              "    }\n",
              "  "
            ],
            "text/plain": [
              "<IPython.core.display.Javascript object>"
            ]
          },
          "metadata": {}
        },
        {
          "output_type": "display_data",
          "data": {
            "application/javascript": [
              "download(\"download_fdae22f7-d385-41b1-9150-9474469a289e\", \"mymodel.pt\", 1191)"
            ],
            "text/plain": [
              "<IPython.core.display.Javascript object>"
            ]
          },
          "metadata": {}
        }
      ]
    }
  ]
}