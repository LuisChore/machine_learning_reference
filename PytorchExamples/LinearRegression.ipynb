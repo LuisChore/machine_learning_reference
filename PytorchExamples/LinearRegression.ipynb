{
  "nbformat": 4,
  "nbformat_minor": 0,
  "metadata": {
    "colab": {
      "name": "LinearRegression.ipynb",
      "provenance": [],
      "toc_visible": true,
      "authorship_tag": "ABX9TyP7LODnZC5A+UOdNuXJl4Pb"
    },
    "kernelspec": {
      "name": "python3",
      "display_name": "Python 3"
    },
    "language_info": {
      "name": "python"
    }
  },
  "cells": [
    {
      "cell_type": "markdown",
      "source": [
        "# Linear Regression with synthetic data"
      ],
      "metadata": {
        "id": "UBTTD0NhDTRB"
      }
    },
    {
      "cell_type": "markdown",
      "source": [
        "$ y = \\frac{1}{2}x - 1$"
      ],
      "metadata": {
        "id": "A_Eq-CcpQX8_"
      }
    },
    {
      "cell_type": "markdown",
      "source": [
        "## 01. Load Data"
      ],
      "metadata": {
        "id": "CRY4bRs4DajD"
      }
    },
    {
      "cell_type": "code",
      "execution_count": 1,
      "metadata": {
        "id": "lr_6sQgI2mOo"
      },
      "outputs": [],
      "source": [
        "import numpy as np \n",
        "import matplotlib.pyplot as plt \n",
        "import torch \n",
        "import torch.nn as nn \n"
      ]
    },
    {
      "cell_type": "code",
      "source": [
        "N = 20\n",
        "D = 1\n",
        "#uniform distributed data (-5,+5)\n",
        "X = np.random.random(N)* 10 - 5\n",
        "#a line plus some gaussian noise (mean = 0, variance = 1)\n",
        "'''\n",
        "When we have gaussian noise the MSE become the correct loss\n",
        "function to use \n",
        "'''\n",
        "Y = 0.5*X -1 + np.random.randn(N)"
      ],
      "metadata": {
        "id": "3ajLKWgYJ0OQ"
      },
      "execution_count": 2,
      "outputs": []
    },
    {
      "cell_type": "code",
      "source": [
        "plt.scatter(X,Y);"
      ],
      "metadata": {
        "colab": {
          "base_uri": "https://localhost:8080/",
          "height": 265
        },
        "id": "8uOlFZwOQvyj",
        "outputId": "10002057-4b18-4d8a-9383-2f8ef2c17370"
      },
      "execution_count": 3,
      "outputs": [
        {
          "output_type": "display_data",
          "data": {
            "image/png": "[encoded data removed]",
            "text/plain": [
              "<Figure size 432x288 with 1 Axes>"
            ]
          },
          "metadata": {
            "needs_background": "light"
          }
        }
      ]
    },
    {
      "cell_type": "code",
      "source": [
        "#(num_samples x num_dimensions)\n",
        "X = X.reshape(N,D)\n",
        "Y = Y.reshape(N,D)"
      ],
      "metadata": {
        "id": "XfB-z_R3OLM3"
      },
      "execution_count": 4,
      "outputs": []
    },
    {
      "cell_type": "markdown",
      "source": [
        "## 02. Create a Model"
      ],
      "metadata": {
        "id": "BGBw-tolHeJj"
      }
    },
    {
      "cell_type": "code",
      "source": [
        "model = nn.Linear(D,1)"
      ],
      "metadata": {
        "id": "CAr52LLUHkLJ"
      },
      "execution_count": 5,
      "outputs": []
    },
    {
      "cell_type": "markdown",
      "source": [
        "### Loss Function"
      ],
      "metadata": {
        "id": "nAwGeQskIAcf"
      }
    },
    {
      "cell_type": "markdown",
      "source": [
        "$MSE = \\frac{1}{N}\\sum_{i = 1}^{N} {(y_i - \\hat{y_i})}^2$"
      ],
      "metadata": {
        "id": "0chXpSRIIShC"
      }
    },
    {
      "cell_type": "code",
      "source": [
        "criterion = nn.MSELoss()"
      ],
      "metadata": {
        "id": "Vck_8ZJLICom"
      },
      "execution_count": 6,
      "outputs": []
    },
    {
      "cell_type": "markdown",
      "source": [
        "### Optimizer"
      ],
      "metadata": {
        "id": "cvk1lKsqIIX7"
      }
    },
    {
      "cell_type": "markdown",
      "source": [
        "Stochastic Gradient Descent "
      ],
      "metadata": {
        "id": "drqh1TjiLg7Z"
      }
    },
    {
      "cell_type": "code",
      "source": [
        "optimizer = torch.optim.SGD(model.parameters(),lr = 0.01)"
      ],
      "metadata": {
        "id": "F1GN21RWIL6n"
      },
      "execution_count": 7,
      "outputs": []
    },
    {
      "cell_type": "markdown",
      "source": [
        "## 03. Train the Model "
      ],
      "metadata": {
        "id": "6ieeEYgJHkeJ"
      }
    },
    {
      "cell_type": "markdown",
      "source": [
        "#### Change inputs/outputs to torch tensors"
      ],
      "metadata": {
        "id": "jK1bY5DcNtwi"
      }
    },
    {
      "cell_type": "code",
      "source": [
        "'''\n",
        "Pytorch does not work with Numpy Arrays, but with Torch Tensors\n",
        "Pytorch uses float32 by default, Numpy Creates float64 by default \n",
        "'''\n",
        "inputs = torch.from_numpy(X.astype(np.float32))\n",
        "targets = torch.from_numpy(Y.astype(np.float32))"
      ],
      "metadata": {
        "id": "zQn_CpsnN0O0"
      },
      "execution_count": 8,
      "outputs": []
    },
    {
      "cell_type": "code",
      "source": [
        "type(inputs)"
      ],
      "metadata": {
        "colab": {
          "base_uri": "https://localhost:8080/"
        },
        "id": "ZUYY8E9HW04M",
        "outputId": "9af5a488-b801-44a2-dc29-a78d7be578ab"
      },
      "execution_count": 9,
      "outputs": [
        {
          "output_type": "execute_result",
          "data": {
            "text/plain": [
              "torch.Tensor"
            ]
          },
          "metadata": {},
          "execution_count": 9
        }
      ]
    },
    {
      "cell_type": "code",
      "source": [
        "epochs = 30\n",
        "train_losses = []\n",
        "for it in range(epochs):\n",
        "  #zero the parameters gradients\n",
        "  '''\n",
        "  Internally Pytorch accumulates gradient when we call backward()\n",
        "  Linear Regression does not require to accumulate gradients \n",
        "  With this line we are cleaning them \n",
        "  ''' \n",
        "  optimizer.zero_grad()\n",
        "\n",
        "  #forward\n",
        "  outputs = model(inputs)#__call__ function \n",
        "  loss = criterion(outputs,targets)\n",
        "\n",
        "  #from (1,1) Tensor to a float\n",
        "  train_losses.append(loss.item())\n",
        "\n",
        "  #backard & optimize\n",
        "  loss.backward() # calculate gradients\n",
        "  optimizer.step() # apply the gradient descent step (THETA = THETA - lr*gradeint)\n",
        "\n",
        "  "
      ],
      "metadata": {
        "id": "KO49Jn5-Htgo"
      },
      "execution_count": 10,
      "outputs": []
    },
    {
      "cell_type": "code",
      "source": [
        "plt.plot(train_losses,label = 'Train Error')\n",
        "plt.legend()\n",
        "plt.show()"
      ],
      "metadata": {
        "colab": {
          "base_uri": "https://localhost:8080/",
          "height": 265
        },
        "id": "J6PUbomMW-2u",
        "outputId": "107a6de2-7945-47d1-aceb-183a1da9a144"
      },
      "execution_count": 11,
      "outputs": [
        {
          "output_type": "display_data",
          "data": {
            "image/png": "[encoded data removed]",
            "text/plain": [
              "<Figure size 432x288 with 1 Axes>"
            ]
          },
          "metadata": {
            "needs_background": "light"
          }
        }
      ]
    },
    {
      "cell_type": "markdown",
      "source": [
        "## 04. Make Predictions"
      ],
      "metadata": {
        "id": "baC4xCd-LRsY"
      }
    },
    {
      "cell_type": "code",
      "source": [
        "#Convert back to numpy arrays\n",
        "#detach from graph\n",
        "'''\n",
        "Pytorch behind the scenes is creating a graph and keep track of \n",
        "the gradients, we need to detach the tensor from the graph \n",
        "'''\n",
        "predictions = model(inputs).detach().numpy()"
      ],
      "metadata": {
        "id": "09mf6VIZOm_q"
      },
      "execution_count": 12,
      "outputs": []
    },
    {
      "cell_type": "code",
      "source": [
        "plt.scatter(X,Y,label = \"Original Data\")\n",
        "plt.plot(X,predictions,label = \"Fitted Line\")\n",
        "plt.legend()\n",
        "plt.show()"
      ],
      "metadata": {
        "colab": {
          "base_uri": "https://localhost:8080/",
          "height": 265
        },
        "id": "umH174lKa_65",
        "outputId": "4dd75fc8-e86d-44d4-97dd-b1229d02edf0"
      },
      "execution_count": 13,
      "outputs": [
        {
          "output_type": "display_data",
          "data": {
            "image/png": "[encoded data removed]",
            "text/plain": [
              "<Figure size 432x288 with 1 Axes>"
            ]
          },
          "metadata": {
            "needs_background": "light"
          }
        }
      ]
    },
    {
      "cell_type": "code",
      "source": [
        "#Second approach \n",
        "'''\n",
        "With this approach we are telling PyTorch to not \n",
        "compute gradients\n",
        "'''\n",
        "with torch.no_grad():\n",
        "  out = model(inputs).numpy()\n",
        "plt.scatter(X,Y,label = \"Original Data\")\n",
        "plt.plot(X,out,label = \"Fitted Line\")\n",
        "plt.legend()\n",
        "plt.show()"
      ],
      "metadata": {
        "colab": {
          "base_uri": "https://localhost:8080/",
          "height": 265
        },
        "id": "k5bgj7nkbtIz",
        "outputId": "9ba8b357-a41c-40cd-f011-55b95b28d0f3"
      },
      "execution_count": 14,
      "outputs": [
        {
          "output_type": "display_data",
          "data": {
            "image/png": "[encoded data removed]",
            "text/plain": [
              "<Figure size 432x288 with 1 Axes>"
            ]
          },
          "metadata": {
            "needs_background": "light"
          }
        }
      ]
    },
    {
      "cell_type": "markdown",
      "source": [
        "## 05. Check Model Params"
      ],
      "metadata": {
        "id": "RJ7sWLY_cOe3"
      }
    },
    {
      "cell_type": "code",
      "source": [
        "w = model.weight.data.numpy()\n",
        "b = model.bias.data.numpy()\n",
        "\n",
        "(w,b)"
      ],
      "metadata": {
        "colab": {
          "base_uri": "https://localhost:8080/"
        },
        "id": "BYtPMm_rcRLK",
        "outputId": "f5a5c067-0a59-48b7-fdea-887f5a587bb8"
      },
      "execution_count": 15,
      "outputs": [
        {
          "output_type": "execute_result",
          "data": {
            "text/plain": [
              "(array([[0.5569194]], dtype=float32), array([-0.29666635], dtype=float32))"
            ]
          },
          "metadata": {},
          "execution_count": 15
        }
      ]
    }
  ]
}