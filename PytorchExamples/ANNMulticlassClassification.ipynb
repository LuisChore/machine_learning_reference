{
  "nbformat": 4,
  "nbformat_minor": 0,
  "metadata": {
    "colab": {
      "name": "ANNMulticlassClassification.ipynb",
      "provenance": [],
      "toc_visible": true,
      "authorship_tag": "ABX9TyOhoFzba9Aw5G9ot9fAdYCg"
    },
    "kernelspec": {
      "name": "python3",
      "display_name": "Python 3"
    },
    "language_info": {
      "name": "python"
    },
    "accelerator": "GPU"
  },
  "cells": [
    {
      "cell_type": "markdown",
      "source": [
        "# ANN for multiclass classification"
      ],
      "metadata": {
        "id": "MXvHRi3gBa6D"
      }
    },
    {
      "cell_type": "markdown",
      "source": [
        "## 01. Load Data"
      ],
      "metadata": {
        "id": "s23-Co33E3by"
      }
    },
    {
      "cell_type": "code",
      "execution_count": 100,
      "metadata": {
        "id": "iEFVTtAh9OA1"
      },
      "outputs": [],
      "source": [
        "import numpy as np\n",
        "import pandas as pd \n",
        "import matplotlib.pyplot as plt \n",
        "import torch\n",
        "import torch.nn as nn\n"
      ]
    },
    {
      "cell_type": "markdown",
      "source": [
        "### 01.01. torchvision\n",
        "\n",
        "Library with computer vision functions, it includes MNIST dataset"
      ],
      "metadata": {
        "id": "Z8ENSlWGGg5X"
      }
    },
    {
      "cell_type": "markdown",
      "source": [
        "####     transform = transforms.ToTensor()\n",
        "\n",
        "It does some preprocessing \n"
      ],
      "metadata": {
        "id": "vJmBLQMcXSzN"
      }
    },
    {
      "cell_type": "code",
      "source": [
        "import torchvision\n",
        "import torchvision.transforms as transforms"
      ],
      "metadata": {
        "id": "SuBr-3ygHXBN"
      },
      "execution_count": 101,
      "outputs": []
    },
    {
      "cell_type": "code",
      "source": [
        "train_dataset = torchvision.datasets.MNIST(\n",
        "    root = '.', # we'll save it here\n",
        "    train = True, # train data\n",
        "    transform = transforms.ToTensor(),\n",
        "    download = True\n",
        ")"
      ],
      "metadata": {
        "id": "DFtKhBANGJQV"
      },
      "execution_count": 102,
      "outputs": []
    },
    {
      "cell_type": "code",
      "source": [
        "test_dataset = torchvision.datasets.MNIST(\n",
        "    root = '.',\n",
        "    train = False,\n",
        "    transform = transforms.ToTensor(),\n",
        "    download = True\n",
        ")"
      ],
      "metadata": {
        "id": "aXu2u8f0H98L"
      },
      "execution_count": 103,
      "outputs": []
    },
    {
      "cell_type": "code",
      "source": [
        "!ls"
      ],
      "metadata": {
        "colab": {
          "base_uri": "https://localhost:8080/"
        },
        "id": "O8qeTMGXHe7V",
        "outputId": "4818a103-fbe1-4fc3-a5b5-bdf9138624a0"
      },
      "execution_count": 104,
      "outputs": [
        {
          "output_type": "stream",
          "name": "stdout",
          "text": [
            "MNIST  sample_data\n"
          ]
        }
      ]
    },
    {
      "cell_type": "code",
      "source": [
        "x_train = train_dataset.data \n",
        "y_train = train_dataset.targets"
      ],
      "metadata": {
        "id": "nZqmpC34Hign"
      },
      "execution_count": 105,
      "outputs": []
    },
    {
      "cell_type": "code",
      "source": [
        "x_test = test_dataset.data\n",
        "y_test = test_dataset.targets"
      ],
      "metadata": {
        "id": "iHQndfo3IDXx"
      },
      "execution_count": 106,
      "outputs": []
    },
    {
      "cell_type": "markdown",
      "source": [
        "## 02. Data Analysis "
      ],
      "metadata": {
        "id": "iI__Xya3E8s7"
      }
    },
    {
      "cell_type": "markdown",
      "source": [
        "### 02.01. Training data"
      ],
      "metadata": {
        "id": "ccssyqdEINFe"
      }
    },
    {
      "cell_type": "code",
      "source": [
        "type(x_train)"
      ],
      "metadata": {
        "colab": {
          "base_uri": "https://localhost:8080/"
        },
        "id": "hB5yc7PBH0YC",
        "outputId": "b86297e4-9a53-4e77-8601-b95827075054"
      },
      "execution_count": 107,
      "outputs": [
        {
          "output_type": "execute_result",
          "data": {
            "text/plain": [
              "torch.Tensor"
            ]
          },
          "metadata": {},
          "execution_count": 107
        }
      ]
    },
    {
      "cell_type": "code",
      "source": [
        "N = x_train.shape[0]\n",
        "x_train.shape"
      ],
      "metadata": {
        "colab": {
          "base_uri": "https://localhost:8080/"
        },
        "id": "l2mepHYYHpvr",
        "outputId": "7e18d4d1-7286-4ea7-f932-07463ff18350"
      },
      "execution_count": 108,
      "outputs": [
        {
          "output_type": "execute_result",
          "data": {
            "text/plain": [
              "torch.Size([60000, 28, 28])"
            ]
          },
          "metadata": {},
          "execution_count": 108
        }
      ]
    },
    {
      "cell_type": "code",
      "source": [
        "y_train.shape"
      ],
      "metadata": {
        "colab": {
          "base_uri": "https://localhost:8080/"
        },
        "id": "MGynC6ZqHu-h",
        "outputId": "e8d1671a-c914-4549-e261-88890a4aeb24"
      },
      "execution_count": 109,
      "outputs": [
        {
          "output_type": "execute_result",
          "data": {
            "text/plain": [
              "torch.Size([60000])"
            ]
          },
          "metadata": {},
          "execution_count": 109
        }
      ]
    },
    {
      "cell_type": "code",
      "source": [
        "n = np.random.randint(N)\n",
        "plt.imshow(x_train[n],cmap = 'gray')\n",
        "plt.show()"
      ],
      "metadata": {
        "colab": {
          "base_uri": "https://localhost:8080/",
          "height": 265
        },
        "id": "URXBPK04Xzw4",
        "outputId": "837a1572-a889-4d18-eb4d-6c3ad32b2123"
      },
      "execution_count": 110,
      "outputs": [
        {
          "output_type": "display_data",
          "data": {
            "text/plain": [
              "<Figure size 432x288 with 1 Axes>"
            ],
            "image/png": "[encoded data removed]"
          },
          "metadata": {
            "needs_background": "light"
          }
        }
      ]
    },
    {
      "cell_type": "markdown",
      "source": [
        "### 02.02. Testing data"
      ],
      "metadata": {
        "id": "5Ohtz8SqITCh"
      }
    },
    {
      "cell_type": "code",
      "source": [
        "x_test.shape,y_test.shape"
      ],
      "metadata": {
        "colab": {
          "base_uri": "https://localhost:8080/"
        },
        "id": "PjB3eOI-IUiD",
        "outputId": "a38331ed-4176-48c1-c58d-8d14f2048099"
      },
      "execution_count": 111,
      "outputs": [
        {
          "output_type": "execute_result",
          "data": {
            "text/plain": [
              "(torch.Size([10000, 28, 28]), torch.Size([10000]))"
            ]
          },
          "metadata": {},
          "execution_count": 111
        }
      ]
    },
    {
      "cell_type": "markdown",
      "source": [
        "## 03. Data Preprocessing"
      ],
      "metadata": {
        "id": "Hrstep3oFDF8"
      }
    },
    {
      "cell_type": "markdown",
      "source": [
        "### 03.01. Flattening Data"
      ],
      "metadata": {
        "id": "NMB7c_J5Kj6R"
      }
    },
    {
      "cell_type": "code",
      "source": [
        "x_train = x_train.reshape(-1,784)\n",
        "x_train.shape"
      ],
      "metadata": {
        "colab": {
          "base_uri": "https://localhost:8080/"
        },
        "id": "fQG_f2kXJ8Fu",
        "outputId": "785a03dd-1bfb-4129-d068-bbd50286fa77"
      },
      "execution_count": 112,
      "outputs": [
        {
          "output_type": "execute_result",
          "data": {
            "text/plain": [
              "torch.Size([60000, 784])"
            ]
          },
          "metadata": {},
          "execution_count": 112
        }
      ]
    },
    {
      "cell_type": "code",
      "source": [
        "y_train = y_train.reshape(-1,1)\n",
        "y_train.shape"
      ],
      "metadata": {
        "colab": {
          "base_uri": "https://localhost:8080/"
        },
        "id": "JcMBVn_jKceZ",
        "outputId": "67f2e64c-ae7d-410b-ebfb-30974caf0a18"
      },
      "execution_count": 113,
      "outputs": [
        {
          "output_type": "execute_result",
          "data": {
            "text/plain": [
              "torch.Size([60000, 1])"
            ]
          },
          "metadata": {},
          "execution_count": 113
        }
      ]
    },
    {
      "cell_type": "code",
      "source": [
        "x_test = x_test.reshape(-1,28*28)\n",
        "x_test.shape"
      ],
      "metadata": {
        "colab": {
          "base_uri": "https://localhost:8080/"
        },
        "id": "DhBvGUHjKIA3",
        "outputId": "999816ac-08b0-4386-e0b9-af78d1049003"
      },
      "execution_count": 114,
      "outputs": [
        {
          "output_type": "execute_result",
          "data": {
            "text/plain": [
              "torch.Size([10000, 784])"
            ]
          },
          "metadata": {},
          "execution_count": 114
        }
      ]
    },
    {
      "cell_type": "code",
      "source": [
        "y_test = y_test.reshape(-1,1)\n",
        "y_test.shape"
      ],
      "metadata": {
        "colab": {
          "base_uri": "https://localhost:8080/"
        },
        "id": "RpUqtHHKKVH0",
        "outputId": "917b57f5-a2cc-480f-a262-91fc03d201c7"
      },
      "execution_count": 115,
      "outputs": [
        {
          "output_type": "execute_result",
          "data": {
            "text/plain": [
              "torch.Size([10000, 1])"
            ]
          },
          "metadata": {},
          "execution_count": 115
        }
      ]
    },
    {
      "cell_type": "markdown",
      "source": [
        "## 04. Model"
      ],
      "metadata": {
        "id": "7DRbiI8NFGO6"
      }
    },
    {
      "cell_type": "code",
      "source": [
        "model = nn.Sequential(\n",
        "    nn.Linear(784,128),\n",
        "    nn.ReLU(),\n",
        "    nn.Linear(128,10)\n",
        ")\n",
        "# not use of softmax"
      ],
      "metadata": {
        "id": "QFni4S1iRlI7"
      },
      "execution_count": 116,
      "outputs": []
    },
    {
      "cell_type": "markdown",
      "source": [
        "### 04.01. USE of GPU\n",
        "\n",
        "For speeding Deep Learning computations. We need to transfer all the parameters of the model to the GPU"
      ],
      "metadata": {
        "id": "pVXnWHTHY136"
      }
    },
    {
      "cell_type": "code",
      "source": [
        "device = torch.device(\"cuda:0\" if torch.cuda.is_available() else \"cpu\")\n",
        "print(device)\n",
        "model.to(device)"
      ],
      "metadata": {
        "colab": {
          "base_uri": "https://localhost:8080/"
        },
        "id": "p4DQnGbeZHZW",
        "outputId": "cbb1647a-3faa-4aca-d7ad-096460102173"
      },
      "execution_count": 117,
      "outputs": [
        {
          "output_type": "stream",
          "name": "stdout",
          "text": [
            "cuda:0\n"
          ]
        },
        {
          "output_type": "execute_result",
          "data": {
            "text/plain": [
              "Sequential(\n",
              "  (0): Linear(in_features=784, out_features=128, bias=True)\n",
              "  (1): ReLU()\n",
              "  (2): Linear(in_features=128, out_features=10, bias=True)\n",
              ")"
            ]
          },
          "metadata": {},
          "execution_count": 117
        }
      ]
    },
    {
      "cell_type": "markdown",
      "source": [
        "### 04.02. Loss Function"
      ],
      "metadata": {
        "id": "3pVqK-h6R1EC"
      }
    },
    {
      "cell_type": "code",
      "source": [
        "criterion = nn.CrossEntropyLoss()"
      ],
      "metadata": {
        "id": "DdidkIOmR5GA"
      },
      "execution_count": 118,
      "outputs": []
    },
    {
      "cell_type": "markdown",
      "source": [
        "### 04.03. Optimizer"
      ],
      "metadata": {
        "id": "8WVi_0y8SJHY"
      }
    },
    {
      "cell_type": "code",
      "source": [
        "optimizer = torch.optim.Adam(model.parameters())"
      ],
      "metadata": {
        "id": "ex-54R6fSL1Z"
      },
      "execution_count": 119,
      "outputs": []
    },
    {
      "cell_type": "markdown",
      "source": [
        "## 05. Train Model"
      ],
      "metadata": {
        "id": "zRT7PQBaFKtk"
      }
    },
    {
      "cell_type": "markdown",
      "source": [
        "### 05.01. Batch Gradient Descent"
      ],
      "metadata": {
        "id": "TO2urSjESWVI"
      }
    },
    {
      "cell_type": "markdown",
      "source": [
        "It works if you have a big dataset which does not fit in memory.\n",
        "\n",
        "* We split our dataset into batches\n",
        "* For each training epoch we make one training step for each one of the batches"
      ],
      "metadata": {
        "id": "t8BLOOhhSqrv"
      }
    },
    {
      "cell_type": "code",
      "source": [
        "batch_size = 128\n",
        "train_loader = torch.utils.data.DataLoader(dataset = train_dataset,batch_size = batch_size,shuffle = True)\n",
        "#for testing is not necessaru to shuffle the data\n",
        "test_loader = torch.utils.data.DataLoader(dataset = test_dataset,batch_size = batch_size,shuffle = False)"
      ],
      "metadata": {
        "id": "5GXN0ksDTcSi"
      },
      "execution_count": 120,
      "outputs": []
    },
    {
      "cell_type": "markdown",
      "source": [
        "At this moment the normalization (transforms) is done"
      ],
      "metadata": {
        "id": "8sysEgt3aswq"
      }
    },
    {
      "cell_type": "code",
      "source": [
        "train_dataset.transform(train_dataset.data.numpy()).max()\n",
        "#this function is internally called by the DataLoader"
      ],
      "metadata": {
        "colab": {
          "base_uri": "https://localhost:8080/"
        },
        "id": "sY91hDXfa6wi",
        "outputId": "670ced3e-f6f6-4432-d33d-8d24955223ab"
      },
      "execution_count": 121,
      "outputs": [
        {
          "output_type": "execute_result",
          "data": {
            "text/plain": [
              "tensor(1.)"
            ]
          },
          "metadata": {},
          "execution_count": 121
        }
      ]
    },
    {
      "cell_type": "code",
      "source": [
        "n_epochs = 10\n",
        "train_losses = np.zeros(n_epochs)\n",
        "test_losses = np.zeros(n_epochs)\n",
        "\n",
        "for it in range(n_epochs):\n",
        "  train_loss = []\n",
        "  for inputs,targets in train_loader:\n",
        "    #move data to GPU\n",
        "    inputs, targets = inputs.to(device), targets.to(device)\n",
        "\n",
        "    #again flat the data (because we passed all the data set to the DataLoader)\n",
        "    inputs = inputs.reshape(-1,784)\n",
        "\n",
        "    #zero gradients\n",
        "    optimizer.zero_grad()\n",
        "\n",
        "    # forward pass\n",
        "    outputs = model(inputs)\n",
        "    loss = criterion(outputs,targets)\n",
        "\n",
        "    #backward and optimize\n",
        "    loss.backward()\n",
        "    optimizer.step()\n",
        "\n",
        "    train_loss.append(loss.item())\n",
        "  \n",
        "  # train loss per epoch\n",
        "  train_loss = np.mean(train_loss)\n",
        "  \n",
        "  # test loss\n",
        "  test_loss = []\n",
        "  for inputs,targets in test_loader:\n",
        "    inputs,targets = inputs.to(device),targets.to(device)\n",
        "    #again flat the data (because we passed all the data set to the DataLoader)\n",
        "    inputs = inputs.reshape(-1,784)\n",
        "    outputs = model(inputs)\n",
        "    loss = criterion(outputs,targets)\n",
        "    test_loss.append(loss.item())\n",
        "\n",
        "  test_loss = np.mean(test_loss)\n",
        "  train_losses[it] = train_loss\n",
        "  test_losses[it] = test_loss "
      ],
      "metadata": {
        "id": "uBGMPle0Txcg"
      },
      "execution_count": 122,
      "outputs": []
    },
    {
      "cell_type": "code",
      "source": [
        "plt.plot(train_losses,label = \"Train\")\n",
        "plt.plot(test_losses,label = \"Test\")\n",
        "plt.legend()\n",
        "plt.show()"
      ],
      "metadata": {
        "colab": {
          "base_uri": "https://localhost:8080/",
          "height": 265
        },
        "id": "hNSLoG0kdOm4",
        "outputId": "5311930a-d5f8-4222-9cba-8e642fad6389"
      },
      "execution_count": 123,
      "outputs": [
        {
          "output_type": "display_data",
          "data": {
            "text/plain": [
              "<Figure size 432x288 with 1 Axes>"
            ],
            "image/png": "[encoded data removed]"
          },
          "metadata": {
            "needs_background": "light"
          }
        }
      ]
    },
    {
      "cell_type": "markdown",
      "source": [
        "## 06. Evaluate Model"
      ],
      "metadata": {
        "id": "AaG9-zxLFPXF"
      }
    },
    {
      "cell_type": "markdown",
      "source": [
        "### 06.01. Training Set\n",
        "\n",
        "\n"
      ],
      "metadata": {
        "id": "fLHZP-52VMXs"
      }
    },
    {
      "cell_type": "code",
      "source": [
        "\n",
        "n_correct = 0\n",
        "n_total = 0\n",
        "for inputs,targets in train_loader:\n",
        "  #move data to GPU\n",
        "  inputs,targets = inputs.to(device),targets.to(device)\n",
        "\n",
        "  #reshape input\n",
        "  inputs = inputs.reshape(-1,784)\n",
        "\n",
        "  #forward pass\n",
        "  outputs = model(inputs)\n",
        "\n",
        "  # we don't need soft max because it keeps\n",
        "  # the order of the values \n",
        "  _,predictions = torch.max(outputs,1) #(max , argmax)\n",
        "  n_correct +=  (predictions == targets).sum().item()\n",
        "  n_total += targets.shape[0]\n",
        "\n",
        "train_acc = n_correct / n_total\n",
        "train_acc\n"
      ],
      "metadata": {
        "colab": {
          "base_uri": "https://localhost:8080/"
        },
        "id": "G5pCRD3eVbf7",
        "outputId": "430c7014-3117-4690-9eed-98a48258ea37"
      },
      "execution_count": 124,
      "outputs": [
        {
          "output_type": "execute_result",
          "data": {
            "text/plain": [
              "0.9919166666666667"
            ]
          },
          "metadata": {},
          "execution_count": 124
        }
      ]
    },
    {
      "cell_type": "markdown",
      "source": [
        "### 06.02. Testing Set"
      ],
      "metadata": {
        "id": "cyWBVhLvVOw2"
      }
    },
    {
      "cell_type": "code",
      "source": [
        "\n",
        "n_correct = 0\n",
        "n_total = 0\n",
        "for inputs,targets in test_loader:\n",
        "#move data to GPU\n",
        "  inputs,targets = inputs.to(device),targets.to(device)\n",
        "\n",
        "  #reshape input\n",
        "  inputs = inputs.reshape(-1,784)\n",
        "\n",
        "  #forward pass\n",
        "  outputs = model(inputs)\n",
        "\n",
        "  # we don't need soft max because it keeps\n",
        "  # the order of the values \n",
        "  _,predictions = torch.max(outputs,1) #(max , argmax)\n",
        "  n_correct +=  (predictions == targets).sum().item()\n",
        "  n_total += targets.shape[0]\n",
        "\n",
        "test_acc = n_correct / n_total\n",
        "test_acc"
      ],
      "metadata": {
        "colab": {
          "base_uri": "https://localhost:8080/"
        },
        "id": "LOlZ-HPogDSS",
        "outputId": "194c4dca-b16c-4a97-ea2e-ac1a20581284"
      },
      "execution_count": 125,
      "outputs": [
        {
          "output_type": "execute_result",
          "data": {
            "text/plain": [
              "0.9796"
            ]
          },
          "metadata": {},
          "execution_count": 125
        }
      ]
    }
  ]
}