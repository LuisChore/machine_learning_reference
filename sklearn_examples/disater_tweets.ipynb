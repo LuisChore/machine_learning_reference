{
  "nbformat": 4,
  "nbformat_minor": 0,
  "metadata": {
    "colab": {
      "name": "disater_tweets.ipynb",
      "provenance": [],
      "toc_visible": true,
      "authorship_tag": "ABX9TyMJt4qH+qo3fY7R1AT+T4ej"
    },
    "kernelspec": {
      "name": "python3",
      "display_name": "Python 3"
    },
    "language_info": {
      "name": "python"
    }
  },
  "cells": [
    {
      "cell_type": "markdown",
      "source": [
        "# Binary Classification Problem\n",
        "\n",
        "NLP"
      ],
      "metadata": {
        "id": "XfF-C2V-svQF"
      }
    },
    {
      "cell_type": "markdown",
      "source": [
        "## 01. Load Data"
      ],
      "metadata": {
        "id": "OKkFgFFA_mg4"
      }
    },
    {
      "cell_type": "code",
      "execution_count": 1,
      "metadata": {
        "id": "egcUj2Mgsowh"
      },
      "outputs": [],
      "source": [
        "import numpy as np \n",
        "import pandas as pd \n",
        "import matplotlib.pyplot as plt \n"
      ]
    },
    {
      "cell_type": "code",
      "source": [
        "from google.colab import drive\n",
        "drive.mount('/content/gdrive')"
      ],
      "metadata": {
        "colab": {
          "base_uri": "https://localhost:8080/"
        },
        "id": "ggaZN_Q0CYBi",
        "outputId": "7df250d5-d19d-41d5-841d-40a251667e20"
      },
      "execution_count": 2,
      "outputs": [
        {
          "output_type": "stream",
          "name": "stdout",
          "text": [
            "Drive already mounted at /content/gdrive; to attempt to forcibly remount, call drive.mount(\"/content/gdrive\", force_remount=True).\n"
          ]
        }
      ]
    },
    {
      "cell_type": "code",
      "source": [
        "train_data = pd.read_csv('/content/gdrive/MyDrive/Colab Notebooks/nlp/train.csv')\n",
        "test_data = pd.read_csv('/content/gdrive/MyDrive/Colab Notebooks/nlp/test.csv')\n"
      ],
      "metadata": {
        "id": "Pv-fXNY9CjuF"
      },
      "execution_count": 3,
      "outputs": []
    },
    {
      "cell_type": "markdown",
      "source": [
        "## 02. Analyze Data"
      ],
      "metadata": {
        "id": "WIUc9K83DrLU"
      }
    },
    {
      "cell_type": "markdown",
      "source": [
        "* **id**: a unique identifier of every tweet\n",
        "* **keyword**: a particular keyword from the tweet (this can be blank)\n",
        "* **location**: the location the tweet was sent from (this can be blank)\n",
        "* **text**: the text of the tweet\n",
        "* **target**: present only in the train data, and denotes if the tweet is about a real disaster (1) or not (0)\n",
        "\n"
      ],
      "metadata": {
        "id": "zh9qu_AeEy19"
      }
    },
    {
      "cell_type": "code",
      "source": [
        "train_data.describe(include = 'all')"
      ],
      "metadata": {
        "colab": {
          "base_uri": "https://localhost:8080/",
          "height": 394
        },
        "id": "RNyC-pPWDuJa",
        "outputId": "11ef1069-f7b1-4b74-a154-4502cf1023c1"
      },
      "execution_count": 4,
      "outputs": [
        {
          "output_type": "execute_result",
          "data": {
            "text/html": [
              "\n",
              "  <div id=\"df-ce13f0e6-c220-4208-8657-b3c333fd0c01\">\n",
              "    <div class=\"colab-df-container\">\n",
              "      <div>\n",
              "<style scoped>\n",
              "    .dataframe tbody tr th:only-of-type {\n",
              "        vertical-align: middle;\n",
              "    }\n",
              "\n",
              "    .dataframe tbody tr th {\n",
              "        vertical-align: top;\n",
              "    }\n",
              "\n",
              "    .dataframe thead th {\n",
              "        text-align: right;\n",
              "    }\n",
              "</style>\n",
              "<table border=\"1\" class=\"dataframe\">\n",
              "  <thead>\n",
              "    <tr style=\"text-align: right;\">\n",
              "      <th></th>\n",
              "      <th>id</th>\n",
              "      <th>keyword</th>\n",
              "      <th>location</th>\n",
              "      <th>text</th>\n",
              "      <th>target</th>\n",
              "    </tr>\n",
              "  </thead>\n",
              "  <tbody>\n",
              "    <tr>\n",
              "      <th>count</th>\n",
              "      <td>7613.000000</td>\n",
              "      <td>7552</td>\n",
              "      <td>5080</td>\n",
              "      <td>7613</td>\n",
              "      <td>7613.00000</td>\n",
              "    </tr>\n",
              "    <tr>\n",
              "      <th>unique</th>\n",
              "      <td>NaN</td>\n",
              "      <td>221</td>\n",
              "      <td>3341</td>\n",
              "      <td>7503</td>\n",
              "      <td>NaN</td>\n",
              "    </tr>\n",
              "    <tr>\n",
              "      <th>top</th>\n",
              "      <td>NaN</td>\n",
              "      <td>fatalities</td>\n",
              "      <td>USA</td>\n",
              "      <td>11-Year-Old Boy Charged With Manslaughter of T...</td>\n",
              "      <td>NaN</td>\n",
              "    </tr>\n",
              "    <tr>\n",
              "      <th>freq</th>\n",
              "      <td>NaN</td>\n",
              "      <td>45</td>\n",
              "      <td>104</td>\n",
              "      <td>10</td>\n",
              "      <td>NaN</td>\n",
              "    </tr>\n",
              "    <tr>\n",
              "      <th>mean</th>\n",
              "      <td>5441.934848</td>\n",
              "      <td>NaN</td>\n",
              "      <td>NaN</td>\n",
              "      <td>NaN</td>\n",
              "      <td>0.42966</td>\n",
              "    </tr>\n",
              "    <tr>\n",
              "      <th>std</th>\n",
              "      <td>3137.116090</td>\n",
              "      <td>NaN</td>\n",
              "      <td>NaN</td>\n",
              "      <td>NaN</td>\n",
              "      <td>0.49506</td>\n",
              "    </tr>\n",
              "    <tr>\n",
              "      <th>min</th>\n",
              "      <td>1.000000</td>\n",
              "      <td>NaN</td>\n",
              "      <td>NaN</td>\n",
              "      <td>NaN</td>\n",
              "      <td>0.00000</td>\n",
              "    </tr>\n",
              "    <tr>\n",
              "      <th>25%</th>\n",
              "      <td>2734.000000</td>\n",
              "      <td>NaN</td>\n",
              "      <td>NaN</td>\n",
              "      <td>NaN</td>\n",
              "      <td>0.00000</td>\n",
              "    </tr>\n",
              "    <tr>\n",
              "      <th>50%</th>\n",
              "      <td>5408.000000</td>\n",
              "      <td>NaN</td>\n",
              "      <td>NaN</td>\n",
              "      <td>NaN</td>\n",
              "      <td>0.00000</td>\n",
              "    </tr>\n",
              "    <tr>\n",
              "      <th>75%</th>\n",
              "      <td>8146.000000</td>\n",
              "      <td>NaN</td>\n",
              "      <td>NaN</td>\n",
              "      <td>NaN</td>\n",
              "      <td>1.00000</td>\n",
              "    </tr>\n",
              "    <tr>\n",
              "      <th>max</th>\n",
              "      <td>10873.000000</td>\n",
              "      <td>NaN</td>\n",
              "      <td>NaN</td>\n",
              "      <td>NaN</td>\n",
              "      <td>1.00000</td>\n",
              "    </tr>\n",
              "  </tbody>\n",
              "</table>\n",
              "</div>\n",
              "      <button class=\"colab-df-convert\" onclick=\"convertToInteractive('df-ce13f0e6-c220-4208-8657-b3c333fd0c01')\"\n",
              "              title=\"Convert this dataframe to an interactive table.\"\n",
              "              style=\"display:none;\">\n",
              "        \n",
              "  <svg xmlns=\"http://www.w3.org/2000/svg\" height=\"24px\"viewBox=\"0 0 24 24\"\n",
              "       width=\"24px\">\n",
              "    <path d=\"M0 0h24v24H0V0z\" fill=\"none\"/>\n",
              "    <path d=\"M18.56 5.44l.94 2.06.94-2.06 2.06-.94-2.06-.94-.94-2.06-.94 2.06-2.06.94zm-11 1L8.5 8.5l.94-2.06 2.06-.94-2.06-.94L8.5 2.5l-.94 2.06-2.06.94zm10 10l.94 2.06.94-2.06 2.06-.94-2.06-.94-.94-2.06-.94 2.06-2.06.94z\"/><path d=\"M17.41 7.96l-1.37-1.37c-.4-.4-.92-.59-1.43-.59-.52 0-1.04.2-1.43.59L10.3 9.45l-7.72 7.72c-.78.78-.78 2.05 0 2.83L4 21.41c.39.39.9.59 1.41.59.51 0 1.02-.2 1.41-.59l7.78-7.78 2.81-2.81c.8-.78.8-2.07 0-2.86zM5.41 20L4 18.59l7.72-7.72 1.47 1.35L5.41 20z\"/>\n",
              "  </svg>\n",
              "      </button>\n",
              "      \n",
              "  <style>\n",
              "    .colab-df-container {\n",
              "      display:flex;\n",
              "      flex-wrap:wrap;\n",
              "      gap: 12px;\n",
              "    }\n",
              "\n",
              "    .colab-df-convert {\n",
              "      background-color: #E8F0FE;\n",
              "      border: none;\n",
              "      border-radius: 50%;\n",
              "      cursor: pointer;\n",
              "      display: none;\n",
              "      fill: #1967D2;\n",
              "      height: 32px;\n",
              "      padding: 0 0 0 0;\n",
              "      width: 32px;\n",
              "    }\n",
              "\n",
              "    .colab-df-convert:hover {\n",
              "      background-color: #E2EBFA;\n",
              "      box-shadow: 0px 1px 2px rgba(60, 64, 67, 0.3), 0px 1px 3px 1px rgba(60, 64, 67, 0.15);\n",
              "      fill: #174EA6;\n",
              "    }\n",
              "\n",
              "    [theme=dark] .colab-df-convert {\n",
              "      background-color: #3B4455;\n",
              "      fill: #D2E3FC;\n",
              "    }\n",
              "\n",
              "    [theme=dark] .colab-df-convert:hover {\n",
              "      background-color: #434B5C;\n",
              "      box-shadow: 0px 1px 3px 1px rgba(0, 0, 0, 0.15);\n",
              "      filter: drop-shadow(0px 1px 2px rgba(0, 0, 0, 0.3));\n",
              "      fill: #FFFFFF;\n",
              "    }\n",
              "  </style>\n",
              "\n",
              "      <script>\n",
              "        const buttonEl =\n",
              "          document.querySelector('#df-ce13f0e6-c220-4208-8657-b3c333fd0c01 button.colab-df-convert');\n",
              "        buttonEl.style.display =\n",
              "          google.colab.kernel.accessAllowed ? 'block' : 'none';\n",
              "\n",
              "        async function convertToInteractive(key) {\n",
              "          const element = document.querySelector('#df-ce13f0e6-c220-4208-8657-b3c333fd0c01');\n",
              "          const dataTable =\n",
              "            await google.colab.kernel.invokeFunction('convertToInteractive',\n",
              "                                                     [key], {});\n",
              "          if (!dataTable) return;\n",
              "\n",
              "          const docLinkHtml = 'Like what you see? Visit the ' +\n",
              "            '<a target=\"_blank\" href=https://colab.research.google.com/notebooks/data_table.ipynb>data table notebook</a>'\n",
              "            + ' to learn more about interactive tables.';\n",
              "          element.innerHTML = '';\n",
              "          dataTable['output_type'] = 'display_data';\n",
              "          await google.colab.output.renderOutput(dataTable, element);\n",
              "          const docLink = document.createElement('div');\n",
              "          docLink.innerHTML = docLinkHtml;\n",
              "          element.appendChild(docLink);\n",
              "        }\n",
              "      </script>\n",
              "    </div>\n",
              "  </div>\n",
              "  "
            ],
            "text/plain": [
              "                  id     keyword location  \\\n",
              "count    7613.000000        7552     5080   \n",
              "unique           NaN         221     3341   \n",
              "top              NaN  fatalities      USA   \n",
              "freq             NaN          45      104   \n",
              "mean     5441.934848         NaN      NaN   \n",
              "std      3137.116090         NaN      NaN   \n",
              "min         1.000000         NaN      NaN   \n",
              "25%      2734.000000         NaN      NaN   \n",
              "50%      5408.000000         NaN      NaN   \n",
              "75%      8146.000000         NaN      NaN   \n",
              "max     10873.000000         NaN      NaN   \n",
              "\n",
              "                                                     text      target  \n",
              "count                                                7613  7613.00000  \n",
              "unique                                               7503         NaN  \n",
              "top     11-Year-Old Boy Charged With Manslaughter of T...         NaN  \n",
              "freq                                                   10         NaN  \n",
              "mean                                                  NaN     0.42966  \n",
              "std                                                   NaN     0.49506  \n",
              "min                                                   NaN     0.00000  \n",
              "25%                                                   NaN     0.00000  \n",
              "50%                                                   NaN     0.00000  \n",
              "75%                                                   NaN     1.00000  \n",
              "max                                                   NaN     1.00000  "
            ]
          },
          "metadata": {},
          "execution_count": 4
        }
      ]
    },
    {
      "cell_type": "code",
      "source": [
        "train_data.sample(5)"
      ],
      "metadata": {
        "colab": {
          "base_uri": "https://localhost:8080/",
          "height": 206
        },
        "id": "OXhiAQ1OFloJ",
        "outputId": "1f41a505-06b9-4658-eee6-a581515dbe4b"
      },
      "execution_count": 5,
      "outputs": [
        {
          "output_type": "execute_result",
          "data": {
            "text/html": [
              "\n",
              "  <div id=\"df-58fe1e04-d9a5-42d0-8b97-1f87b44375a8\">\n",
              "    <div class=\"colab-df-container\">\n",
              "      <div>\n",
              "<style scoped>\n",
              "    .dataframe tbody tr th:only-of-type {\n",
              "        vertical-align: middle;\n",
              "    }\n",
              "\n",
              "    .dataframe tbody tr th {\n",
              "        vertical-align: top;\n",
              "    }\n",
              "\n",
              "    .dataframe thead th {\n",
              "        text-align: right;\n",
              "    }\n",
              "</style>\n",
              "<table border=\"1\" class=\"dataframe\">\n",
              "  <thead>\n",
              "    <tr style=\"text-align: right;\">\n",
              "      <th></th>\n",
              "      <th>id</th>\n",
              "      <th>keyword</th>\n",
              "      <th>location</th>\n",
              "      <th>text</th>\n",
              "      <th>target</th>\n",
              "    </tr>\n",
              "  </thead>\n",
              "  <tbody>\n",
              "    <tr>\n",
              "      <th>5260</th>\n",
              "      <td>7521</td>\n",
              "      <td>oil%20spill</td>\n",
              "      <td>NaN</td>\n",
              "      <td>Refugio oil spill may have been costlier bigge...</td>\n",
              "      <td>1</td>\n",
              "    </tr>\n",
              "    <tr>\n",
              "      <th>4849</th>\n",
              "      <td>6908</td>\n",
              "      <td>mass%20murderer</td>\n",
              "      <td>Earth-616</td>\n",
              "      <td>[Creel:You must think I'm a real moron Flag ma...</td>\n",
              "      <td>0</td>\n",
              "    </tr>\n",
              "    <tr>\n",
              "      <th>3786</th>\n",
              "      <td>5378</td>\n",
              "      <td>fire%20truck</td>\n",
              "      <td>NaN</td>\n",
              "      <td>Our garbage truck really caught on fire lmfao.</td>\n",
              "      <td>0</td>\n",
              "    </tr>\n",
              "    <tr>\n",
              "      <th>3489</th>\n",
              "      <td>4986</td>\n",
              "      <td>explosion</td>\n",
              "      <td>NaN</td>\n",
              "      <td>New Explosion-proof Tempered Glass Screen Prot...</td>\n",
              "      <td>0</td>\n",
              "    </tr>\n",
              "    <tr>\n",
              "      <th>4256</th>\n",
              "      <td>6048</td>\n",
              "      <td>heat%20wave</td>\n",
              "      <td>London, Riyadh</td>\n",
              "      <td>Something Frightening is Happening to the Weat...</td>\n",
              "      <td>1</td>\n",
              "    </tr>\n",
              "  </tbody>\n",
              "</table>\n",
              "</div>\n",
              "      <button class=\"colab-df-convert\" onclick=\"convertToInteractive('df-58fe1e04-d9a5-42d0-8b97-1f87b44375a8')\"\n",
              "              title=\"Convert this dataframe to an interactive table.\"\n",
              "              style=\"display:none;\">\n",
              "        \n",
              "  <svg xmlns=\"http://www.w3.org/2000/svg\" height=\"24px\"viewBox=\"0 0 24 24\"\n",
              "       width=\"24px\">\n",
              "    <path d=\"M0 0h24v24H0V0z\" fill=\"none\"/>\n",
              "    <path d=\"M18.56 5.44l.94 2.06.94-2.06 2.06-.94-2.06-.94-.94-2.06-.94 2.06-2.06.94zm-11 1L8.5 8.5l.94-2.06 2.06-.94-2.06-.94L8.5 2.5l-.94 2.06-2.06.94zm10 10l.94 2.06.94-2.06 2.06-.94-2.06-.94-.94-2.06-.94 2.06-2.06.94z\"/><path d=\"M17.41 7.96l-1.37-1.37c-.4-.4-.92-.59-1.43-.59-.52 0-1.04.2-1.43.59L10.3 9.45l-7.72 7.72c-.78.78-.78 2.05 0 2.83L4 21.41c.39.39.9.59 1.41.59.51 0 1.02-.2 1.41-.59l7.78-7.78 2.81-2.81c.8-.78.8-2.07 0-2.86zM5.41 20L4 18.59l7.72-7.72 1.47 1.35L5.41 20z\"/>\n",
              "  </svg>\n",
              "      </button>\n",
              "      \n",
              "  <style>\n",
              "    .colab-df-container {\n",
              "      display:flex;\n",
              "      flex-wrap:wrap;\n",
              "      gap: 12px;\n",
              "    }\n",
              "\n",
              "    .colab-df-convert {\n",
              "      background-color: #E8F0FE;\n",
              "      border: none;\n",
              "      border-radius: 50%;\n",
              "      cursor: pointer;\n",
              "      display: none;\n",
              "      fill: #1967D2;\n",
              "      height: 32px;\n",
              "      padding: 0 0 0 0;\n",
              "      width: 32px;\n",
              "    }\n",
              "\n",
              "    .colab-df-convert:hover {\n",
              "      background-color: #E2EBFA;\n",
              "      box-shadow: 0px 1px 2px rgba(60, 64, 67, 0.3), 0px 1px 3px 1px rgba(60, 64, 67, 0.15);\n",
              "      fill: #174EA6;\n",
              "    }\n",
              "\n",
              "    [theme=dark] .colab-df-convert {\n",
              "      background-color: #3B4455;\n",
              "      fill: #D2E3FC;\n",
              "    }\n",
              "\n",
              "    [theme=dark] .colab-df-convert:hover {\n",
              "      background-color: #434B5C;\n",
              "      box-shadow: 0px 1px 3px 1px rgba(0, 0, 0, 0.15);\n",
              "      filter: drop-shadow(0px 1px 2px rgba(0, 0, 0, 0.3));\n",
              "      fill: #FFFFFF;\n",
              "    }\n",
              "  </style>\n",
              "\n",
              "      <script>\n",
              "        const buttonEl =\n",
              "          document.querySelector('#df-58fe1e04-d9a5-42d0-8b97-1f87b44375a8 button.colab-df-convert');\n",
              "        buttonEl.style.display =\n",
              "          google.colab.kernel.accessAllowed ? 'block' : 'none';\n",
              "\n",
              "        async function convertToInteractive(key) {\n",
              "          const element = document.querySelector('#df-58fe1e04-d9a5-42d0-8b97-1f87b44375a8');\n",
              "          const dataTable =\n",
              "            await google.colab.kernel.invokeFunction('convertToInteractive',\n",
              "                                                     [key], {});\n",
              "          if (!dataTable) return;\n",
              "\n",
              "          const docLinkHtml = 'Like what you see? Visit the ' +\n",
              "            '<a target=\"_blank\" href=https://colab.research.google.com/notebooks/data_table.ipynb>data table notebook</a>'\n",
              "            + ' to learn more about interactive tables.';\n",
              "          element.innerHTML = '';\n",
              "          dataTable['output_type'] = 'display_data';\n",
              "          await google.colab.output.renderOutput(dataTable, element);\n",
              "          const docLink = document.createElement('div');\n",
              "          docLink.innerHTML = docLinkHtml;\n",
              "          element.appendChild(docLink);\n",
              "        }\n",
              "      </script>\n",
              "    </div>\n",
              "  </div>\n",
              "  "
            ],
            "text/plain": [
              "        id          keyword        location  \\\n",
              "5260  7521      oil%20spill             NaN   \n",
              "4849  6908  mass%20murderer       Earth-616   \n",
              "3786  5378     fire%20truck             NaN   \n",
              "3489  4986        explosion             NaN   \n",
              "4256  6048      heat%20wave  London, Riyadh   \n",
              "\n",
              "                                                   text  target  \n",
              "5260  Refugio oil spill may have been costlier bigge...       1  \n",
              "4849  [Creel:You must think I'm a real moron Flag ma...       0  \n",
              "3786     Our garbage truck really caught on fire lmfao.       0  \n",
              "3489  New Explosion-proof Tempered Glass Screen Prot...       0  \n",
              "4256  Something Frightening is Happening to the Weat...       1  "
            ]
          },
          "metadata": {},
          "execution_count": 5
        }
      ]
    },
    {
      "cell_type": "code",
      "source": [
        "test_data.sample(5)"
      ],
      "metadata": {
        "colab": {
          "base_uri": "https://localhost:8080/",
          "height": 206
        },
        "id": "obBA9JaJQY5u",
        "outputId": "1b6af985-3042-4b34-d151-5b2af4bb2129"
      },
      "execution_count": 6,
      "outputs": [
        {
          "output_type": "execute_result",
          "data": {
            "text/html": [
              "\n",
              "  <div id=\"df-d0206088-f72d-4150-9201-833c59501e6c\">\n",
              "    <div class=\"colab-df-container\">\n",
              "      <div>\n",
              "<style scoped>\n",
              "    .dataframe tbody tr th:only-of-type {\n",
              "        vertical-align: middle;\n",
              "    }\n",
              "\n",
              "    .dataframe tbody tr th {\n",
              "        vertical-align: top;\n",
              "    }\n",
              "\n",
              "    .dataframe thead th {\n",
              "        text-align: right;\n",
              "    }\n",
              "</style>\n",
              "<table border=\"1\" class=\"dataframe\">\n",
              "  <thead>\n",
              "    <tr style=\"text-align: right;\">\n",
              "      <th></th>\n",
              "      <th>id</th>\n",
              "      <th>keyword</th>\n",
              "      <th>location</th>\n",
              "      <th>text</th>\n",
              "    </tr>\n",
              "  </thead>\n",
              "  <tbody>\n",
              "    <tr>\n",
              "      <th>2895</th>\n",
              "      <td>9587</td>\n",
              "      <td>thunder</td>\n",
              "      <td>NaN</td>\n",
              "      <td>Tuesday Bolts ÛÒ 8.4.15 http://t.co/mkMSV54eV...</td>\n",
              "    </tr>\n",
              "    <tr>\n",
              "      <th>3197</th>\n",
              "      <td>10624</td>\n",
              "      <td>wounded</td>\n",
              "      <td>SWMO</td>\n",
              "      <td>Officer Wounded Suspect Killed in Exchange of ...</td>\n",
              "    </tr>\n",
              "    <tr>\n",
              "      <th>1170</th>\n",
              "      <td>3865</td>\n",
              "      <td>detonation</td>\n",
              "      <td>Palacio, Madrid</td>\n",
              "      <td>@jcenters No uh-oh it was a controlled detonat...</td>\n",
              "    </tr>\n",
              "    <tr>\n",
              "      <th>2915</th>\n",
              "      <td>9648</td>\n",
              "      <td>thunderstorm</td>\n",
              "      <td>Oklahoma City, OK</td>\n",
              "      <td>Severe Thunderstorm Warnings have been cancell...</td>\n",
              "    </tr>\n",
              "    <tr>\n",
              "      <th>2526</th>\n",
              "      <td>8426</td>\n",
              "      <td>sandstorm</td>\n",
              "      <td>United States</td>\n",
              "      <td>Watch This Airport Get Swallowed Up By A Sands...</td>\n",
              "    </tr>\n",
              "  </tbody>\n",
              "</table>\n",
              "</div>\n",
              "      <button class=\"colab-df-convert\" onclick=\"convertToInteractive('df-d0206088-f72d-4150-9201-833c59501e6c')\"\n",
              "              title=\"Convert this dataframe to an interactive table.\"\n",
              "              style=\"display:none;\">\n",
              "        \n",
              "  <svg xmlns=\"http://www.w3.org/2000/svg\" height=\"24px\"viewBox=\"0 0 24 24\"\n",
              "       width=\"24px\">\n",
              "    <path d=\"M0 0h24v24H0V0z\" fill=\"none\"/>\n",
              "    <path d=\"M18.56 5.44l.94 2.06.94-2.06 2.06-.94-2.06-.94-.94-2.06-.94 2.06-2.06.94zm-11 1L8.5 8.5l.94-2.06 2.06-.94-2.06-.94L8.5 2.5l-.94 2.06-2.06.94zm10 10l.94 2.06.94-2.06 2.06-.94-2.06-.94-.94-2.06-.94 2.06-2.06.94z\"/><path d=\"M17.41 7.96l-1.37-1.37c-.4-.4-.92-.59-1.43-.59-.52 0-1.04.2-1.43.59L10.3 9.45l-7.72 7.72c-.78.78-.78 2.05 0 2.83L4 21.41c.39.39.9.59 1.41.59.51 0 1.02-.2 1.41-.59l7.78-7.78 2.81-2.81c.8-.78.8-2.07 0-2.86zM5.41 20L4 18.59l7.72-7.72 1.47 1.35L5.41 20z\"/>\n",
              "  </svg>\n",
              "      </button>\n",
              "      \n",
              "  <style>\n",
              "    .colab-df-container {\n",
              "      display:flex;\n",
              "      flex-wrap:wrap;\n",
              "      gap: 12px;\n",
              "    }\n",
              "\n",
              "    .colab-df-convert {\n",
              "      background-color: #E8F0FE;\n",
              "      border: none;\n",
              "      border-radius: 50%;\n",
              "      cursor: pointer;\n",
              "      display: none;\n",
              "      fill: #1967D2;\n",
              "      height: 32px;\n",
              "      padding: 0 0 0 0;\n",
              "      width: 32px;\n",
              "    }\n",
              "\n",
              "    .colab-df-convert:hover {\n",
              "      background-color: #E2EBFA;\n",
              "      box-shadow: 0px 1px 2px rgba(60, 64, 67, 0.3), 0px 1px 3px 1px rgba(60, 64, 67, 0.15);\n",
              "      fill: #174EA6;\n",
              "    }\n",
              "\n",
              "    [theme=dark] .colab-df-convert {\n",
              "      background-color: #3B4455;\n",
              "      fill: #D2E3FC;\n",
              "    }\n",
              "\n",
              "    [theme=dark] .colab-df-convert:hover {\n",
              "      background-color: #434B5C;\n",
              "      box-shadow: 0px 1px 3px 1px rgba(0, 0, 0, 0.15);\n",
              "      filter: drop-shadow(0px 1px 2px rgba(0, 0, 0, 0.3));\n",
              "      fill: #FFFFFF;\n",
              "    }\n",
              "  </style>\n",
              "\n",
              "      <script>\n",
              "        const buttonEl =\n",
              "          document.querySelector('#df-d0206088-f72d-4150-9201-833c59501e6c button.colab-df-convert');\n",
              "        buttonEl.style.display =\n",
              "          google.colab.kernel.accessAllowed ? 'block' : 'none';\n",
              "\n",
              "        async function convertToInteractive(key) {\n",
              "          const element = document.querySelector('#df-d0206088-f72d-4150-9201-833c59501e6c');\n",
              "          const dataTable =\n",
              "            await google.colab.kernel.invokeFunction('convertToInteractive',\n",
              "                                                     [key], {});\n",
              "          if (!dataTable) return;\n",
              "\n",
              "          const docLinkHtml = 'Like what you see? Visit the ' +\n",
              "            '<a target=\"_blank\" href=https://colab.research.google.com/notebooks/data_table.ipynb>data table notebook</a>'\n",
              "            + ' to learn more about interactive tables.';\n",
              "          element.innerHTML = '';\n",
              "          dataTable['output_type'] = 'display_data';\n",
              "          await google.colab.output.renderOutput(dataTable, element);\n",
              "          const docLink = document.createElement('div');\n",
              "          docLink.innerHTML = docLinkHtml;\n",
              "          element.appendChild(docLink);\n",
              "        }\n",
              "      </script>\n",
              "    </div>\n",
              "  </div>\n",
              "  "
            ],
            "text/plain": [
              "         id       keyword           location  \\\n",
              "2895   9587       thunder                NaN   \n",
              "3197  10624       wounded               SWMO   \n",
              "1170   3865    detonation    Palacio, Madrid   \n",
              "2915   9648  thunderstorm  Oklahoma City, OK   \n",
              "2526   8426     sandstorm      United States   \n",
              "\n",
              "                                                   text  \n",
              "2895  Tuesday Bolts ÛÒ 8.4.15 http://t.co/mkMSV54eV...  \n",
              "3197  Officer Wounded Suspect Killed in Exchange of ...  \n",
              "1170  @jcenters No uh-oh it was a controlled detonat...  \n",
              "2915  Severe Thunderstorm Warnings have been cancell...  \n",
              "2526  Watch This Airport Get Swallowed Up By A Sands...  "
            ]
          },
          "metadata": {},
          "execution_count": 6
        }
      ]
    },
    {
      "cell_type": "markdown",
      "source": [
        "### 02.02. Missing Values"
      ],
      "metadata": {
        "id": "97xLAwOSEdbX"
      }
    },
    {
      "cell_type": "code",
      "source": [
        "train_data.isnull().sum()"
      ],
      "metadata": {
        "colab": {
          "base_uri": "https://localhost:8080/"
        },
        "id": "wBQG_ir1Egw5",
        "outputId": "2d483b84-8709-46d6-a9ef-56048ac9da47"
      },
      "execution_count": 7,
      "outputs": [
        {
          "output_type": "execute_result",
          "data": {
            "text/plain": [
              "id             0\n",
              "keyword       61\n",
              "location    2533\n",
              "text           0\n",
              "target         0\n",
              "dtype: int64"
            ]
          },
          "metadata": {},
          "execution_count": 7
        }
      ]
    },
    {
      "cell_type": "code",
      "source": [
        "test_data.isnull().sum()"
      ],
      "metadata": {
        "colab": {
          "base_uri": "https://localhost:8080/"
        },
        "id": "LZydTEgwQf74",
        "outputId": "cacf42db-9eee-4012-b17c-0a11179c98cd"
      },
      "execution_count": 8,
      "outputs": [
        {
          "output_type": "execute_result",
          "data": {
            "text/plain": [
              "id             0\n",
              "keyword       26\n",
              "location    1105\n",
              "text           0\n",
              "dtype: int64"
            ]
          },
          "metadata": {},
          "execution_count": 8
        }
      ]
    },
    {
      "cell_type": "code",
      "source": [
        "'''\n",
        "We can still find an aproach to include the 'keyworkd in our mode, but in this\n",
        "exaple we are going to be using the simple text from the twitter.\n",
        "'''"
      ],
      "metadata": {
        "colab": {
          "base_uri": "https://localhost:8080/",
          "height": 54
        },
        "id": "b0xl_ZZPFsr2",
        "outputId": "4d890ac9-ffec-4a7b-ce5c-4afe8adbd432"
      },
      "execution_count": 9,
      "outputs": [
        {
          "output_type": "execute_result",
          "data": {
            "application/vnd.google.colaboratory.intrinsic+json": {
              "type": "string"
            },
            "text/plain": [
              "\"\\nWe can still find an aproach to include the 'keyworkd in our mode, but in this\\nexaple we are going to be using the simple text from the twitter.\\n\""
            ]
          },
          "metadata": {},
          "execution_count": 9
        }
      ]
    },
    {
      "cell_type": "code",
      "source": [
        "train_data.text.sample(10)"
      ],
      "metadata": {
        "colab": {
          "base_uri": "https://localhost:8080/"
        },
        "id": "o-_yMRUVIOfH",
        "outputId": "f6b9c482-50e0-42ea-b0cd-b384469614e2"
      },
      "execution_count": 10,
      "outputs": [
        {
          "output_type": "execute_result",
          "data": {
            "text/plain": [
              "1277    burned 129 calories doing 24 minutes of Walkin...\n",
              "3821    Juneau Empire - First responders turn out for ...\n",
              "2839    Philippines Must Protect Internally Displaced ...\n",
              "2007    Nine inmates charged with causing damage in Ca...\n",
              "1197    Mmmmmm I'm burning.... I'm burning buildings I...\n",
              "6067    150-Foot Sinkhole Opens In Lowndes County Resi...\n",
              "1586    News Update Huge cliff landslide on road in Ch...\n",
              "3189    Cruise's 'M:I 5' emergency plan: Awesome fail ...\n",
              "3558    @FinancialTimes Ethiopian regimes continue rec...\n",
              "6938    @astros stunningly poor defense it's not all o...\n",
              "Name: text, dtype: object"
            ]
          },
          "metadata": {},
          "execution_count": 10
        }
      ]
    },
    {
      "cell_type": "markdown",
      "source": [
        "## 03. Data Processing"
      ],
      "metadata": {
        "id": "LWFthodMG1Ka"
      }
    },
    {
      "cell_type": "markdown",
      "source": [
        "### 03.01. Text Preprocessing"
      ],
      "metadata": {
        "id": "XsiFt9FWG7og"
      }
    },
    {
      "cell_type": "markdown",
      "source": [
        "#### Lowercasing"
      ],
      "metadata": {
        "id": "anOdI6sAHFRh"
      }
    },
    {
      "cell_type": "code",
      "source": [
        "train_data['text'] = train_data['text'].apply(lambda x : str.lower(x))\n",
        "train_data.text.sample(10)\n"
      ],
      "metadata": {
        "colab": {
          "base_uri": "https://localhost:8080/"
        },
        "id": "bxZFtF4RHVNO",
        "outputId": "6d07c830-ae89-46a3-f3d1-5edf12143c18"
      },
      "execution_count": 11,
      "outputs": [
        {
          "output_type": "execute_result",
          "data": {
            "text/plain": [
              "5718    video: 'we're picking up bodies from water': r...\n",
              "2718    @un no more #gujaratriot &amp; #mumbairiot92-9...\n",
              "6265    kesabaran membuahkan hasil indah pada saat tep...\n",
              "6416    #deai #??? #??? #??? suicide bomber kills 15 i...\n",
              "4827    http://t.co/c1h7jecfrv @royalcarribean do your...\n",
              "2443    #news madhya pradesh train derailment: village...\n",
              "2687    dorman 917-033 ignition knock (detonation) sen...\n",
              "970     new summer long thin body bag hip a word skirt...\n",
              "5129    nuclear-deal: indo-japan pact lies at the hear...\n",
              "6201    smoke with me baby and lay with me baby and la...\n",
              "Name: text, dtype: object"
            ]
          },
          "metadata": {},
          "execution_count": 11
        }
      ]
    },
    {
      "cell_type": "code",
      "source": [
        "test_data['text'] = test_data['text'].apply(lambda x : str.lower(x))\n",
        "test_data.text.sample(10)\n"
      ],
      "metadata": {
        "colab": {
          "base_uri": "https://localhost:8080/"
        },
        "id": "uk7UCPDJQvYP",
        "outputId": "86f45087-c877-446b-be8f-36e8fb9463ab"
      },
      "execution_count": 12,
      "outputs": [
        {
          "output_type": "execute_result",
          "data": {
            "text/plain": [
              "1303    the drowning girl by caitlin r. kiernan centip...\n",
              "601     @trubeque destruction magic's fine just don't ...\n",
              "2855    cross-border terrorism: pakistan caught red-ha...\n",
              "688     emergency services in hammondville. near jewel...\n",
              "1271                              drown me in clementines\n",
              "847     @benznibeadel_ hehe like u hahaha i'm kidding ...\n",
              "1984    5 need to-dos seeing as how technical writing ...\n",
              "1755    father we come 2u &amp; lift up this nation am...\n",
              "176     wehtwtvwlocal: trial date set for man charged ...\n",
              "1430    what if the fire up in the catalinas gets wors...\n",
              "Name: text, dtype: object"
            ]
          },
          "metadata": {},
          "execution_count": 12
        }
      ]
    },
    {
      "cell_type": "markdown",
      "source": [
        "#### Entities, URL links and Punctuation Removal"
      ],
      "metadata": {
        "id": "1roLw-RrLGmC"
      }
    },
    {
      "cell_type": "markdown",
      "source": [
        "Remove mentions (i.e. @user), and hashtags (e.g. #CA) "
      ],
      "metadata": {
        "id": "UK7kdP4_LmZy"
      }
    },
    {
      "cell_type": "code",
      "source": [
        "def remove_entities(text):\n",
        "  entity_prefixes = ['@','#']\n",
        "  words = []\n",
        "  for word in text.split():\n",
        "    w = word.strip()\n",
        "    if len(w) > 0 and w[0] not in entity_prefixes:\n",
        "      words.append(w)\n",
        "  return  ' '.join(words)"
      ],
      "metadata": {
        "id": "EWEClg06LEUn"
      },
      "execution_count": 13,
      "outputs": []
    },
    {
      "cell_type": "code",
      "source": [
        "train_data['text'] = train_data['text'].apply(lambda x: remove_entities(x))"
      ],
      "metadata": {
        "id": "ik930TP3RM-Q"
      },
      "execution_count": 14,
      "outputs": []
    },
    {
      "cell_type": "code",
      "source": [
        "train_data.text.sample(10)"
      ],
      "metadata": {
        "colab": {
          "base_uri": "https://localhost:8080/"
        },
        "id": "3oPu9oCnO9Pu",
        "outputId": "10ce29b6-30b1-42d0-e549-9c163f0b7895"
      },
      "execution_count": 15,
      "outputs": [
        {
          "output_type": "execute_result",
          "data": {
            "text/plain": [
              "7388    texas seeks comment on rules for changes to wi...\n",
              "690     not really. sadly i have come to expect that f...\n",
              "5333    pandemonium in aba as woman delivers baby with...\n",
              "2034    training grains of wheat to bare gold in the a...\n",
              "2194    malaysia confirms reunion island debris is fro...\n",
              "707     morgan silver dollar 1921 p ch gem bu pl blazi...\n",
              "5962                                            screaming\n",
              "7399    police officer wounded suspect dead after exch...\n",
              "1349    like for the music video i want some real acti...\n",
              "203     twelve feared killed in pakistani air ambulanc...\n",
              "Name: text, dtype: object"
            ]
          },
          "metadata": {},
          "execution_count": 15
        }
      ]
    },
    {
      "cell_type": "code",
      "source": [
        "test_data['text'] = test_data['text'].apply(lambda x: remove_entities(x))"
      ],
      "metadata": {
        "id": "JqiXToJQRpt6"
      },
      "execution_count": 16,
      "outputs": []
    },
    {
      "cell_type": "code",
      "source": [
        "test_data.text.sample(10)"
      ],
      "metadata": {
        "colab": {
          "base_uri": "https://localhost:8080/"
        },
        "id": "nqKTpZe3RqlW",
        "outputId": "58bd2b28-4431-44c4-de77-bf5d78f0939e"
      },
      "execution_count": 17,
      "outputs": [
        {
          "output_type": "execute_result",
          "data": {
            "text/plain": [
              "2245    short story about indifference oppression hatr...\n",
              "2419    if a picture is worth a thousand words what wo...\n",
              "3032    twister hits 4 villages in quezon province - h...\n",
              "2157            washi is indeed 'a natural disaster' ????\n",
              "2392    guess who's got a hilarious new piece on 51 th...\n",
              "37      there's a construction guy working on the disn...\n",
              "2411    florida firefighters rescue scared meowing kit...\n",
              "2898    it doesn't really get much better then summer ...\n",
              "2152             natural disaster on you half ass rappers\n",
              "1572        the next chp is titled emmeryn i live in fear\n",
              "Name: text, dtype: object"
            ]
          },
          "metadata": {},
          "execution_count": 17
        }
      ]
    },
    {
      "cell_type": "markdown",
      "source": [
        "Replace URL links with blanks"
      ],
      "metadata": {
        "id": "2E1Su_0oT5SM"
      }
    },
    {
      "cell_type": "code",
      "source": [
        "import re"
      ],
      "metadata": {
        "id": "k8v1WY_lYQiI"
      },
      "execution_count": 18,
      "outputs": []
    },
    {
      "cell_type": "code",
      "source": [
        "train_data['text'] = train_data['text'].apply(lambda x: re.sub(r\"(?:\\@|http?\\://|https?\\://|www)\\S+\",' ',x))\n",
        "\n",
        "test_data['text'] = test_data['text'].apply(lambda x: re.sub(r\"(?:\\@|http?\\://|https?\\://|www)\\S+\",' ',x))"
      ],
      "metadata": {
        "id": "gK0I5fGjT2co"
      },
      "execution_count": 19,
      "outputs": []
    },
    {
      "cell_type": "code",
      "source": [
        "train_data.text.sample(10)"
      ],
      "metadata": {
        "colab": {
          "base_uri": "https://localhost:8080/"
        },
        "id": "r_fE5LwUY0Lv",
        "outputId": "1c5208cd-141b-432e-ab0e-ec61e253aa69"
      },
      "execution_count": 20,
      "outputs": [
        {
          "output_type": "execute_result",
          "data": {
            "text/plain": [
              "3197    do you have an emergency drinking water plan? ...\n",
              "3083    she says that she'd love to come help but the ...\n",
              "4290    describes piling up thinking it would last as ...\n",
              "2938    sometimes logic gets drowned out in emotion bu...\n",
              "1542    downtown emergency service center is hiring! c...\n",
              "2370    totally agree.she is 23 and know what birth co...\n",
              "5106       fukushima: the story of a nuclear disaster    \n",
              "6577    4 those who care about sibling abuse survivors...\n",
              "3257    why tf did i decide to workout today? my body ...\n",
              "7282    set a new record.... 7 states in 4 days. i don...\n",
              "Name: text, dtype: object"
            ]
          },
          "metadata": {},
          "execution_count": 20
        }
      ]
    },
    {
      "cell_type": "code",
      "source": [
        "test_data.text.sample(10)"
      ],
      "metadata": {
        "colab": {
          "base_uri": "https://localhost:8080/"
        },
        "id": "Uv2SXQdvY413",
        "outputId": "7481f519-40a4-43ed-e415-c82c9ca9a7d7"
      },
      "execution_count": 21,
      "outputs": [
        {
          "output_type": "execute_result",
          "data": {
            "text/plain": [
              "3140    {{ whirlwind romance dress | in-store &amp; on...\n",
              "2799    'i mean if the relationship can't survive thez...\n",
              "258     fedex no longer to transport bioterror germs i...\n",
              "2571                                            *screams*\n",
              "167     arson suspect linked to 30 fires caught in nor...\n",
              "3136    join me on fb for friday   for my upcoming to ...\n",
              "459     eish even drake killing niggas eish game is re...\n",
              "2244    [chaos dancing in the streets | why did god or...\n",
              "702     video: man rescued after 80ft cliff fall at sh...\n",
              "1672                 flooding updates from pasco county  \n",
              "Name: text, dtype: object"
            ]
          },
          "metadata": {},
          "execution_count": 21
        }
      ]
    },
    {
      "cell_type": "markdown",
      "source": [
        "\n",
        "Removing Punctuation"
      ],
      "metadata": {
        "id": "pb9oZtXYcW1i"
      }
    },
    {
      "cell_type": "code",
      "source": [
        "train_data['text'] = train_data['text'].apply(lambda x: re.sub(r\"[^\\w\\s]\",\" \",x))\n",
        "\n",
        "test_data['text'] = test_data['text'].apply(lambda x: re.sub(r\"[^\\w\\s]\",\" \",x))"
      ],
      "metadata": {
        "id": "7BHVumS5co9Q"
      },
      "execution_count": 22,
      "outputs": []
    },
    {
      "cell_type": "code",
      "source": [
        "train_data.text.sample(10)"
      ],
      "metadata": {
        "colab": {
          "base_uri": "https://localhost:8080/"
        },
        "id": "SuYrQ5IldtpW",
        "outputId": "fbe71da4-a47c-4539-b977-48308424e0f7"
      },
      "execution_count": 23,
      "outputs": [
        {
          "output_type": "execute_result",
          "data": {
            "text/plain": [
              "1178    listening to blowers and tuffers on the aussie...\n",
              "7215    iranian warship points weapon at american heli...\n",
              "7314    deep crew to help with california wild fires  ...\n",
              "4612                    familia  arm injury or head case \n",
              "4671    potential storm surge flooding map by national...\n",
              "4689    speaking of memorable debates  60 second know ...\n",
              "116               320  ir  icemoon  aftershock           \n",
              "2511    just came back from camping and returned with ...\n",
              "3302    the efak would be designed for building occupa...\n",
              "7253     the reagan administration had arranged for is...\n",
              "Name: text, dtype: object"
            ]
          },
          "metadata": {},
          "execution_count": 23
        }
      ]
    },
    {
      "cell_type": "code",
      "source": [
        "test_data.text.sample(10)"
      ],
      "metadata": {
        "colab": {
          "base_uri": "https://localhost:8080/"
        },
        "id": "5F2lPm7zd1WW",
        "outputId": "a02b5379-69af-4fb2-827f-ef542564833a"
      },
      "execution_count": 24,
      "outputs": [
        {
          "output_type": "execute_result",
          "data": {
            "text/plain": [
              "3025    i liked a video   call of duty ghosts walktrou...\n",
              "648     fox news is the biggest media catastrophe in a...\n",
              "1403     emergency plumber emergency plumbing services   \n",
              "1247    drought report lists se texas as  abnormally d...\n",
              "2868    polls  should the unborn babies of boko haram ...\n",
              "516     ashes 2015  australia ûªs collapse at trent br...\n",
              "1440    chesterfield apartment complex evacuated becau...\n",
              "1496    new explosion proof tempered glass screen prot...\n",
              "1749    anger is an acid that can do more harm to the ...\n",
              "2129    my husband was in the military and he does tha...\n",
              "Name: text, dtype: object"
            ]
          },
          "metadata": {},
          "execution_count": 24
        }
      ]
    },
    {
      "cell_type": "markdown",
      "source": [
        "Remove numbers"
      ],
      "metadata": {
        "id": "dKGljTryx4mR"
      }
    },
    {
      "cell_type": "code",
      "source": [
        "def remove_numbers(text):\n",
        "  words = []\n",
        "  for word in text.split():\n",
        "    w = word.strip()\n",
        "    if len(w) > 0 and w.isnumeric() == False:\n",
        "      words.append(w)\n",
        "  return  ' '.join(words)"
      ],
      "metadata": {
        "id": "tfpWSIQ6x7YD"
      },
      "execution_count": 25,
      "outputs": []
    },
    {
      "cell_type": "code",
      "source": [
        "train_data['text'] = train_data['text'].apply(lambda x: remove_numbers(x))\n",
        "\n",
        "test_data['text'] = test_data['text'].apply(lambda x: remove_numbers(x))"
      ],
      "metadata": {
        "id": "P98dZx2Lylcv"
      },
      "execution_count": 26,
      "outputs": []
    },
    {
      "cell_type": "code",
      "source": [
        "train_data.sample(10)"
      ],
      "metadata": {
        "colab": {
          "base_uri": "https://localhost:8080/",
          "height": 363
        },
        "id": "3OiIaYVryswc",
        "outputId": "17760b07-27a5-4240-f4b6-cc7e14fd3648"
      },
      "execution_count": 27,
      "outputs": [
        {
          "output_type": "execute_result",
          "data": {
            "text/html": [
              "\n",
              "  <div id=\"df-0a0de4e3-ca13-4619-a5a3-22da1fd5a1f1\">\n",
              "    <div class=\"colab-df-container\">\n",
              "      <div>\n",
              "<style scoped>\n",
              "    .dataframe tbody tr th:only-of-type {\n",
              "        vertical-align: middle;\n",
              "    }\n",
              "\n",
              "    .dataframe tbody tr th {\n",
              "        vertical-align: top;\n",
              "    }\n",
              "\n",
              "    .dataframe thead th {\n",
              "        text-align: right;\n",
              "    }\n",
              "</style>\n",
              "<table border=\"1\" class=\"dataframe\">\n",
              "  <thead>\n",
              "    <tr style=\"text-align: right;\">\n",
              "      <th></th>\n",
              "      <th>id</th>\n",
              "      <th>keyword</th>\n",
              "      <th>location</th>\n",
              "      <th>text</th>\n",
              "      <th>target</th>\n",
              "    </tr>\n",
              "  </thead>\n",
              "  <tbody>\n",
              "    <tr>\n",
              "      <th>2997</th>\n",
              "      <td>4305</td>\n",
              "      <td>dust%20storm</td>\n",
              "      <td>CA via Brum</td>\n",
              "      <td>when the answer my friend isn t blowing in the...</td>\n",
              "      <td>1</td>\n",
              "    </tr>\n",
              "    <tr>\n",
              "      <th>5046</th>\n",
              "      <td>7194</td>\n",
              "      <td>mudslide</td>\n",
              "      <td>NaN</td>\n",
              "      <td>even the one that looked like a mudslide</td>\n",
              "      <td>0</td>\n",
              "    </tr>\n",
              "    <tr>\n",
              "      <th>7305</th>\n",
              "      <td>10455</td>\n",
              "      <td>wild%20fires</td>\n",
              "      <td>North Carolina, USA</td>\n",
              "      <td>i was thinking about you today when i was read...</td>\n",
              "      <td>1</td>\n",
              "    </tr>\n",
              "    <tr>\n",
              "      <th>1173</th>\n",
              "      <td>1690</td>\n",
              "      <td>bridge%20collapse</td>\n",
              "      <td>NaN</td>\n",
              "      <td>two giant cranes holding a bridge collapse int...</td>\n",
              "      <td>1</td>\n",
              "    </tr>\n",
              "    <tr>\n",
              "      <th>7400</th>\n",
              "      <td>10588</td>\n",
              "      <td>wounded</td>\n",
              "      <td>North Cack/919</td>\n",
              "      <td>i also loved bury my heart at wounded knee too</td>\n",
              "      <td>0</td>\n",
              "    </tr>\n",
              "    <tr>\n",
              "      <th>677</th>\n",
              "      <td>978</td>\n",
              "      <td>blaze</td>\n",
              "      <td>My contac 27B80F7E 08170156520</td>\n",
              "      <td>say by agree s is a</td>\n",
              "      <td>0</td>\n",
              "    </tr>\n",
              "    <tr>\n",
              "      <th>2478</th>\n",
              "      <td>3554</td>\n",
              "      <td>desolate</td>\n",
              "      <td>NaN</td>\n",
              "      <td>thanks a lot roadworks men cos a tube strike w...</td>\n",
              "      <td>1</td>\n",
              "    </tr>\n",
              "    <tr>\n",
              "      <th>3495</th>\n",
              "      <td>4995</td>\n",
              "      <td>explosion</td>\n",
              "      <td>NaN</td>\n",
              "      <td>did you miss the explosion don t miss out toni...</td>\n",
              "      <td>0</td>\n",
              "    </tr>\n",
              "    <tr>\n",
              "      <th>7577</th>\n",
              "      <td>10829</td>\n",
              "      <td>wrecked</td>\n",
              "      <td>#NewcastleuponTyne #UK</td>\n",
              "      <td>he s gone you can relax i thought the wife who...</td>\n",
              "      <td>0</td>\n",
              "    </tr>\n",
              "    <tr>\n",
              "      <th>6324</th>\n",
              "      <td>9040</td>\n",
              "      <td>stretcher</td>\n",
              "      <td>NaN</td>\n",
              "      <td>show me a picture of it</td>\n",
              "      <td>1</td>\n",
              "    </tr>\n",
              "  </tbody>\n",
              "</table>\n",
              "</div>\n",
              "      <button class=\"colab-df-convert\" onclick=\"convertToInteractive('df-0a0de4e3-ca13-4619-a5a3-22da1fd5a1f1')\"\n",
              "              title=\"Convert this dataframe to an interactive table.\"\n",
              "              style=\"display:none;\">\n",
              "        \n",
              "  <svg xmlns=\"http://www.w3.org/2000/svg\" height=\"24px\"viewBox=\"0 0 24 24\"\n",
              "       width=\"24px\">\n",
              "    <path d=\"M0 0h24v24H0V0z\" fill=\"none\"/>\n",
              "    <path d=\"M18.56 5.44l.94 2.06.94-2.06 2.06-.94-2.06-.94-.94-2.06-.94 2.06-2.06.94zm-11 1L8.5 8.5l.94-2.06 2.06-.94-2.06-.94L8.5 2.5l-.94 2.06-2.06.94zm10 10l.94 2.06.94-2.06 2.06-.94-2.06-.94-.94-2.06-.94 2.06-2.06.94z\"/><path d=\"M17.41 7.96l-1.37-1.37c-.4-.4-.92-.59-1.43-.59-.52 0-1.04.2-1.43.59L10.3 9.45l-7.72 7.72c-.78.78-.78 2.05 0 2.83L4 21.41c.39.39.9.59 1.41.59.51 0 1.02-.2 1.41-.59l7.78-7.78 2.81-2.81c.8-.78.8-2.07 0-2.86zM5.41 20L4 18.59l7.72-7.72 1.47 1.35L5.41 20z\"/>\n",
              "  </svg>\n",
              "      </button>\n",
              "      \n",
              "  <style>\n",
              "    .colab-df-container {\n",
              "      display:flex;\n",
              "      flex-wrap:wrap;\n",
              "      gap: 12px;\n",
              "    }\n",
              "\n",
              "    .colab-df-convert {\n",
              "      background-color: #E8F0FE;\n",
              "      border: none;\n",
              "      border-radius: 50%;\n",
              "      cursor: pointer;\n",
              "      display: none;\n",
              "      fill: #1967D2;\n",
              "      height: 32px;\n",
              "      padding: 0 0 0 0;\n",
              "      width: 32px;\n",
              "    }\n",
              "\n",
              "    .colab-df-convert:hover {\n",
              "      background-color: #E2EBFA;\n",
              "      box-shadow: 0px 1px 2px rgba(60, 64, 67, 0.3), 0px 1px 3px 1px rgba(60, 64, 67, 0.15);\n",
              "      fill: #174EA6;\n",
              "    }\n",
              "\n",
              "    [theme=dark] .colab-df-convert {\n",
              "      background-color: #3B4455;\n",
              "      fill: #D2E3FC;\n",
              "    }\n",
              "\n",
              "    [theme=dark] .colab-df-convert:hover {\n",
              "      background-color: #434B5C;\n",
              "      box-shadow: 0px 1px 3px 1px rgba(0, 0, 0, 0.15);\n",
              "      filter: drop-shadow(0px 1px 2px rgba(0, 0, 0, 0.3));\n",
              "      fill: #FFFFFF;\n",
              "    }\n",
              "  </style>\n",
              "\n",
              "      <script>\n",
              "        const buttonEl =\n",
              "          document.querySelector('#df-0a0de4e3-ca13-4619-a5a3-22da1fd5a1f1 button.colab-df-convert');\n",
              "        buttonEl.style.display =\n",
              "          google.colab.kernel.accessAllowed ? 'block' : 'none';\n",
              "\n",
              "        async function convertToInteractive(key) {\n",
              "          const element = document.querySelector('#df-0a0de4e3-ca13-4619-a5a3-22da1fd5a1f1');\n",
              "          const dataTable =\n",
              "            await google.colab.kernel.invokeFunction('convertToInteractive',\n",
              "                                                     [key], {});\n",
              "          if (!dataTable) return;\n",
              "\n",
              "          const docLinkHtml = 'Like what you see? Visit the ' +\n",
              "            '<a target=\"_blank\" href=https://colab.research.google.com/notebooks/data_table.ipynb>data table notebook</a>'\n",
              "            + ' to learn more about interactive tables.';\n",
              "          element.innerHTML = '';\n",
              "          dataTable['output_type'] = 'display_data';\n",
              "          await google.colab.output.renderOutput(dataTable, element);\n",
              "          const docLink = document.createElement('div');\n",
              "          docLink.innerHTML = docLinkHtml;\n",
              "          element.appendChild(docLink);\n",
              "        }\n",
              "      </script>\n",
              "    </div>\n",
              "  </div>\n",
              "  "
            ],
            "text/plain": [
              "         id            keyword                        location  \\\n",
              "2997   4305       dust%20storm                     CA via Brum   \n",
              "5046   7194           mudslide                             NaN   \n",
              "7305  10455       wild%20fires             North Carolina, USA   \n",
              "1173   1690  bridge%20collapse                             NaN   \n",
              "7400  10588            wounded                  North Cack/919   \n",
              "677     978              blaze  My contac 27B80F7E 08170156520   \n",
              "2478   3554           desolate                             NaN   \n",
              "3495   4995          explosion                             NaN   \n",
              "7577  10829            wrecked          #NewcastleuponTyne #UK   \n",
              "6324   9040          stretcher                             NaN   \n",
              "\n",
              "                                                   text  target  \n",
              "2997  when the answer my friend isn t blowing in the...       1  \n",
              "5046           even the one that looked like a mudslide       0  \n",
              "7305  i was thinking about you today when i was read...       1  \n",
              "1173  two giant cranes holding a bridge collapse int...       1  \n",
              "7400     i also loved bury my heart at wounded knee too       0  \n",
              "677                                 say by agree s is a       0  \n",
              "2478  thanks a lot roadworks men cos a tube strike w...       1  \n",
              "3495  did you miss the explosion don t miss out toni...       0  \n",
              "7577  he s gone you can relax i thought the wife who...       0  \n",
              "6324                            show me a picture of it       1  "
            ]
          },
          "metadata": {},
          "execution_count": 27
        }
      ]
    },
    {
      "cell_type": "code",
      "source": [
        "test_data.sample(10)"
      ],
      "metadata": {
        "colab": {
          "base_uri": "https://localhost:8080/",
          "height": 363
        },
        "id": "BfP9f7efyu2c",
        "outputId": "5436eaca-7edf-45b9-dcbf-b332d8d81061"
      },
      "execution_count": 28,
      "outputs": [
        {
          "output_type": "execute_result",
          "data": {
            "text/html": [
              "\n",
              "  <div id=\"df-b3c7e355-0c6c-42e9-b369-af84d524b9e1\">\n",
              "    <div class=\"colab-df-container\">\n",
              "      <div>\n",
              "<style scoped>\n",
              "    .dataframe tbody tr th:only-of-type {\n",
              "        vertical-align: middle;\n",
              "    }\n",
              "\n",
              "    .dataframe tbody tr th {\n",
              "        vertical-align: top;\n",
              "    }\n",
              "\n",
              "    .dataframe thead th {\n",
              "        text-align: right;\n",
              "    }\n",
              "</style>\n",
              "<table border=\"1\" class=\"dataframe\">\n",
              "  <thead>\n",
              "    <tr style=\"text-align: right;\">\n",
              "      <th></th>\n",
              "      <th>id</th>\n",
              "      <th>keyword</th>\n",
              "      <th>location</th>\n",
              "      <th>text</th>\n",
              "    </tr>\n",
              "  </thead>\n",
              "  <tbody>\n",
              "    <tr>\n",
              "      <th>227</th>\n",
              "      <td>742</td>\n",
              "      <td>attacked</td>\n",
              "      <td>NaN</td>\n",
              "      <td>christian attacked by muslims at the temple mo...</td>\n",
              "    </tr>\n",
              "    <tr>\n",
              "      <th>2868</th>\n",
              "      <td>9512</td>\n",
              "      <td>terrorist</td>\n",
              "      <td>Lagos, Nigeria.</td>\n",
              "      <td>polls should the unborn babies of boko haram t...</td>\n",
              "    </tr>\n",
              "    <tr>\n",
              "      <th>1965</th>\n",
              "      <td>6623</td>\n",
              "      <td>inundated</td>\n",
              "      <td>RELEASE THE REIS</td>\n",
              "      <td>my school is inundated and they wont let us go...</td>\n",
              "    </tr>\n",
              "    <tr>\n",
              "      <th>717</th>\n",
              "      <td>2331</td>\n",
              "      <td>collapse</td>\n",
              "      <td>Russia</td>\n",
              "      <td>if oikawa was in karasuno i guess i d just col...</td>\n",
              "    </tr>\n",
              "    <tr>\n",
              "      <th>1948</th>\n",
              "      <td>6574</td>\n",
              "      <td>injury</td>\n",
              "      <td>All Round The World</td>\n",
              "      <td>enter the world of extreme diving ûó stories u...</td>\n",
              "    </tr>\n",
              "    <tr>\n",
              "      <th>1752</th>\n",
              "      <td>5917</td>\n",
              "      <td>harm</td>\n",
              "      <td>NaN</td>\n",
              "      <td>never let the experiences of your past bring h...</td>\n",
              "    </tr>\n",
              "    <tr>\n",
              "      <th>1818</th>\n",
              "      <td>6144</td>\n",
              "      <td>hijack</td>\n",
              "      <td>FCT, Abuja</td>\n",
              "      <td>tension in bayelsa as patience jonathan plans ...</td>\n",
              "    </tr>\n",
              "    <tr>\n",
              "      <th>2450</th>\n",
              "      <td>8186</td>\n",
              "      <td>rescuers</td>\n",
              "      <td>Manado,Sulawesi Utara</td>\n",
              "      <td>video we re picking up bodies from water rescu...</td>\n",
              "    </tr>\n",
              "    <tr>\n",
              "      <th>541</th>\n",
              "      <td>1777</td>\n",
              "      <td>buildings%20on%20fire</td>\n",
              "      <td>Wellington</td>\n",
              "      <td>jane kelsey on the fire economy 5th aug ûò7 30...</td>\n",
              "    </tr>\n",
              "    <tr>\n",
              "      <th>1348</th>\n",
              "      <td>4446</td>\n",
              "      <td>electrocute</td>\n",
              "      <td>32935</td>\n",
              "      <td>of electricity he had wire and a golf ball hoo...</td>\n",
              "    </tr>\n",
              "  </tbody>\n",
              "</table>\n",
              "</div>\n",
              "      <button class=\"colab-df-convert\" onclick=\"convertToInteractive('df-b3c7e355-0c6c-42e9-b369-af84d524b9e1')\"\n",
              "              title=\"Convert this dataframe to an interactive table.\"\n",
              "              style=\"display:none;\">\n",
              "        \n",
              "  <svg xmlns=\"http://www.w3.org/2000/svg\" height=\"24px\"viewBox=\"0 0 24 24\"\n",
              "       width=\"24px\">\n",
              "    <path d=\"M0 0h24v24H0V0z\" fill=\"none\"/>\n",
              "    <path d=\"M18.56 5.44l.94 2.06.94-2.06 2.06-.94-2.06-.94-.94-2.06-.94 2.06-2.06.94zm-11 1L8.5 8.5l.94-2.06 2.06-.94-2.06-.94L8.5 2.5l-.94 2.06-2.06.94zm10 10l.94 2.06.94-2.06 2.06-.94-2.06-.94-.94-2.06-.94 2.06-2.06.94z\"/><path d=\"M17.41 7.96l-1.37-1.37c-.4-.4-.92-.59-1.43-.59-.52 0-1.04.2-1.43.59L10.3 9.45l-7.72 7.72c-.78.78-.78 2.05 0 2.83L4 21.41c.39.39.9.59 1.41.59.51 0 1.02-.2 1.41-.59l7.78-7.78 2.81-2.81c.8-.78.8-2.07 0-2.86zM5.41 20L4 18.59l7.72-7.72 1.47 1.35L5.41 20z\"/>\n",
              "  </svg>\n",
              "      </button>\n",
              "      \n",
              "  <style>\n",
              "    .colab-df-container {\n",
              "      display:flex;\n",
              "      flex-wrap:wrap;\n",
              "      gap: 12px;\n",
              "    }\n",
              "\n",
              "    .colab-df-convert {\n",
              "      background-color: #E8F0FE;\n",
              "      border: none;\n",
              "      border-radius: 50%;\n",
              "      cursor: pointer;\n",
              "      display: none;\n",
              "      fill: #1967D2;\n",
              "      height: 32px;\n",
              "      padding: 0 0 0 0;\n",
              "      width: 32px;\n",
              "    }\n",
              "\n",
              "    .colab-df-convert:hover {\n",
              "      background-color: #E2EBFA;\n",
              "      box-shadow: 0px 1px 2px rgba(60, 64, 67, 0.3), 0px 1px 3px 1px rgba(60, 64, 67, 0.15);\n",
              "      fill: #174EA6;\n",
              "    }\n",
              "\n",
              "    [theme=dark] .colab-df-convert {\n",
              "      background-color: #3B4455;\n",
              "      fill: #D2E3FC;\n",
              "    }\n",
              "\n",
              "    [theme=dark] .colab-df-convert:hover {\n",
              "      background-color: #434B5C;\n",
              "      box-shadow: 0px 1px 3px 1px rgba(0, 0, 0, 0.15);\n",
              "      filter: drop-shadow(0px 1px 2px rgba(0, 0, 0, 0.3));\n",
              "      fill: #FFFFFF;\n",
              "    }\n",
              "  </style>\n",
              "\n",
              "      <script>\n",
              "        const buttonEl =\n",
              "          document.querySelector('#df-b3c7e355-0c6c-42e9-b369-af84d524b9e1 button.colab-df-convert');\n",
              "        buttonEl.style.display =\n",
              "          google.colab.kernel.accessAllowed ? 'block' : 'none';\n",
              "\n",
              "        async function convertToInteractive(key) {\n",
              "          const element = document.querySelector('#df-b3c7e355-0c6c-42e9-b369-af84d524b9e1');\n",
              "          const dataTable =\n",
              "            await google.colab.kernel.invokeFunction('convertToInteractive',\n",
              "                                                     [key], {});\n",
              "          if (!dataTable) return;\n",
              "\n",
              "          const docLinkHtml = 'Like what you see? Visit the ' +\n",
              "            '<a target=\"_blank\" href=https://colab.research.google.com/notebooks/data_table.ipynb>data table notebook</a>'\n",
              "            + ' to learn more about interactive tables.';\n",
              "          element.innerHTML = '';\n",
              "          dataTable['output_type'] = 'display_data';\n",
              "          await google.colab.output.renderOutput(dataTable, element);\n",
              "          const docLink = document.createElement('div');\n",
              "          docLink.innerHTML = docLinkHtml;\n",
              "          element.appendChild(docLink);\n",
              "        }\n",
              "      </script>\n",
              "    </div>\n",
              "  </div>\n",
              "  "
            ],
            "text/plain": [
              "        id                keyword               location  \\\n",
              "227    742               attacked                    NaN   \n",
              "2868  9512              terrorist        Lagos, Nigeria.   \n",
              "1965  6623              inundated     RELEASE THE REIS     \n",
              "717   2331               collapse                 Russia   \n",
              "1948  6574                 injury    All Round The World   \n",
              "1752  5917                   harm                    NaN   \n",
              "1818  6144                 hijack            FCT, Abuja    \n",
              "2450  8186               rescuers  Manado,Sulawesi Utara   \n",
              "541   1777  buildings%20on%20fire             Wellington   \n",
              "1348  4446            electrocute                  32935   \n",
              "\n",
              "                                                   text  \n",
              "227   christian attacked by muslims at the temple mo...  \n",
              "2868  polls should the unborn babies of boko haram t...  \n",
              "1965  my school is inundated and they wont let us go...  \n",
              "717   if oikawa was in karasuno i guess i d just col...  \n",
              "1948  enter the world of extreme diving ûó stories u...  \n",
              "1752  never let the experiences of your past bring h...  \n",
              "1818  tension in bayelsa as patience jonathan plans ...  \n",
              "2450  video we re picking up bodies from water rescu...  \n",
              "541   jane kelsey on the fire economy 5th aug ûò7 30...  \n",
              "1348  of electricity he had wire and a golf ball hoo...  "
            ]
          },
          "metadata": {},
          "execution_count": 28
        }
      ]
    },
    {
      "cell_type": "markdown",
      "source": [
        "#### Spelling Correction"
      ],
      "metadata": {
        "id": "MflGI4UHh1yW"
      }
    },
    {
      "cell_type": "code",
      "source": [
        "!python -m pip install -U symspellpy"
      ],
      "metadata": {
        "colab": {
          "base_uri": "https://localhost:8080/"
        },
        "id": "XxOcR9pqlexl",
        "outputId": "0756c612-f23d-4da7-8559-4f6426acc26f"
      },
      "execution_count": 29,
      "outputs": [
        {
          "output_type": "stream",
          "name": "stdout",
          "text": [
            "Requirement already satisfied: symspellpy in /usr/local/lib/python3.7/dist-packages (6.7.6)\n",
            "Requirement already satisfied: editdistpy>=0.1.3 in /usr/local/lib/python3.7/dist-packages (from symspellpy) (0.1.3)\n"
          ]
        }
      ]
    },
    {
      "cell_type": "code",
      "source": [
        "import pkg_resources\n",
        "from symspellpy import SymSpell, Verbosity\n",
        "sym_spell = SymSpell()\n",
        "dictionary_path = pkg_resources.resource_filename(\"symspellpy\", \"frequency_dictionary_en_82_765.txt\")\n",
        "sym_spell.load_dictionary(dictionary_path,0,1)\n",
        "num_prints = 10\n",
        "\n",
        "def spelling_correction(sent):\n",
        "  global num_prints\n",
        "  doc_w_correct_spelling = []\n",
        "  for tok in sent.split(\" \"):\n",
        "    tok = tok.strip()\n",
        "    if len(tok) == 0:\n",
        "       continue\n",
        "    suggestion_list = sym_spell.lookup(tok,Verbosity.CLOSEST, max_edit_distance=2, include_unknown=True)\n",
        "    first_suggestion = suggestion_list[0].__str__()\n",
        "    y = first_suggestion.split(',')[0]\n",
        "    z = first_suggestion.split(',')[1]\n",
        "    if int(z) >= 1 and num_prints >= 0:\n",
        "      print(f'Data Type {type(suggestion_list)}')\n",
        "      print(f'Data Type {type(first_suggestion)}')\n",
        "      print(f'Spelling Mistake: {tok}')\n",
        "      print(f'Spelling Correction: {y}')\n",
        "      print()\n",
        "      num_prints -= 1\n",
        "    doc_w_correct_spelling.append(y)\n",
        "  return ' '.join(doc_w_correct_spelling)"
      ],
      "metadata": {
        "id": "MA2KkDTWh3F1"
      },
      "execution_count": 30,
      "outputs": []
    },
    {
      "cell_type": "code",
      "source": [
        "train_data['text'] = train_data['text'].apply(lambda x: spelling_correction(x))"
      ],
      "metadata": {
        "colab": {
          "base_uri": "https://localhost:8080/"
        },
        "id": "wF24u5rkt2ay",
        "outputId": "3b8d17e7-f665-420f-eb47-f7cd82c928b2"
      },
      "execution_count": 31,
      "outputs": [
        {
          "output_type": "stream",
          "name": "stdout",
          "text": [
            "Data Type <class 'list'>\n",
            "Data Type <class 'str'>\n",
            "Spelling Mistake: ronge\n",
            "Spelling Correction: range\n",
            "\n",
            "Data Type <class 'list'>\n",
            "Data Type <class 'str'>\n",
            "Spelling Mistake: m\n",
            "Spelling Correction: a\n",
            "\n",
            "Data Type <class 'list'>\n",
            "Data Type <class 'str'>\n",
            "Spelling Mistake: s\n",
            "Spelling Correction: a\n",
            "\n",
            "Data Type <class 'list'>\n",
            "Data Type <class 'str'>\n",
            "Spelling Mistake: m\n",
            "Spelling Correction: a\n",
            "\n",
            "Data Type <class 'list'>\n",
            "Data Type <class 'str'>\n",
            "Spelling Mistake: haha\n",
            "Spelling Correction: hama\n",
            "\n",
            "Data Type <class 'list'>\n",
            "Data Type <class 'str'>\n",
            "Spelling Mistake: fvck\n",
            "Spelling Correction: fuck\n",
            "\n",
            "Data Type <class 'list'>\n",
            "Data Type <class 'str'>\n",
            "Spelling Mistake: ve\n",
            "Spelling Correction: be\n",
            "\n",
            "Data Type <class 'list'>\n",
            "Data Type <class 'str'>\n",
            "Spelling Mistake: bago\n",
            "Spelling Correction: ago\n",
            "\n",
            "Data Type <class 'list'>\n",
            "Data Type <class 'str'>\n",
            "Spelling Mistake: bago\n",
            "Spelling Correction: ago\n",
            "\n",
            "Data Type <class 'list'>\n",
            "Data Type <class 'str'>\n",
            "Spelling Mistake: s\n",
            "Spelling Correction: a\n",
            "\n",
            "Data Type <class 'list'>\n",
            "Data Type <class 'str'>\n",
            "Spelling Mistake: goooooooaaaaaal\n",
            "Spelling Correction: goooooooaaaaaal\n",
            "\n"
          ]
        }
      ]
    },
    {
      "cell_type": "code",
      "source": [
        "train_data.text.sample(10)"
      ],
      "metadata": {
        "colab": {
          "base_uri": "https://localhost:8080/"
        },
        "id": "Cs32u5iTuEtu",
        "outputId": "327c7ed2-6a30-4dac-96ad-9ee14dbd052e"
      },
      "execution_count": 32,
      "outputs": [
        {
          "output_type": "execute_result",
          "data": {
            "text/plain": [
              "4285    hellfire is surrounded by desires so be carefu...\n",
              "5579    the latest more homes razed by northern califo...\n",
              "7351                     brush that a the lady from milan\n",
              "1012    woke up to drake body bagging meek again meek ...\n",
              "2824    thousands of people were displaced injured kil...\n",
              "5326    would love to see a diabolo map themed after p...\n",
              "7096    thunder pounds north goes black a deep bruise ...\n",
              "155     asama bin ladies family dead in airline crash ...\n",
              "6092      nigga car sinking but he snapping it up for fox\n",
              "3146    the new quest type is level up quest its an al...\n",
              "Name: text, dtype: object"
            ]
          },
          "metadata": {},
          "execution_count": 32
        }
      ]
    },
    {
      "cell_type": "code",
      "source": [
        "test_data['text'] = test_data['text'].apply(lambda x: spelling_correction(x))"
      ],
      "metadata": {
        "id": "xk8991EMzmXx"
      },
      "execution_count": 33,
      "outputs": []
    },
    {
      "cell_type": "code",
      "source": [
        "test_data.text.sample(10)"
      ],
      "metadata": {
        "colab": {
          "base_uri": "https://localhost:8080/"
        },
        "id": "faH5gqJazq6U",
        "outputId": "43b3bf21-0150-4b08-f22c-150c79d84b3f"
      },
      "execution_count": 34,
      "outputs": [
        {
          "output_type": "execute_result",
          "data": {
            "text/plain": [
              "938     she stepping up enforcement after mining death...\n",
              "3184    great time group camping at press file with fa...\n",
              "593                 burning buildings keep the flames lit\n",
              "2332    cod advanced warfare reckoning dec quarantine ...\n",
              "94      well first we strike dreamworld and the minion...\n",
              "1124    so gist houses farm produce destroyed by flood...\n",
              "1947                         full game injury cut is here\n",
              "682     the chemical brothers to play the armoury in o...\n",
              "1821    chrysler jeep tirelessly hacked over internet ...\n",
              "511     breaking news australia collapse to a hapless ...\n",
              "Name: text, dtype: object"
            ]
          },
          "metadata": {},
          "execution_count": 34
        }
      ]
    },
    {
      "cell_type": "markdown",
      "source": [
        "#### Lemmatization"
      ],
      "metadata": {
        "id": "JctFRNoQ0E2k"
      }
    },
    {
      "cell_type": "markdown",
      "source": [
        "The goal of lemmatization is to convert a word to its root form."
      ],
      "metadata": {
        "id": "1gG30GSs0JZ-"
      }
    },
    {
      "cell_type": "code",
      "source": [
        "import spacy\n",
        "import os \n",
        "os.system('python -m spacy download en')\n",
        "\n",
        "nlp = spacy.load('en')"
      ],
      "metadata": {
        "id": "NLf_bkMC0H-j"
      },
      "execution_count": 35,
      "outputs": []
    },
    {
      "cell_type": "code",
      "source": [
        "def lemmatize(sentence):\n",
        "  doc = nlp(sentence)\n",
        "  lemmas = [token.lemma_ for token in doc]\n",
        "  return \" \".join(lemmas)"
      ],
      "metadata": {
        "id": "xssuQsiv0f4i"
      },
      "execution_count": 36,
      "outputs": []
    },
    {
      "cell_type": "code",
      "source": [
        "train_data['text'] = train_data['text'].apply(lambda x: lemmatize(x))\n",
        "\n",
        "test_data['text'] = test_data['text'].apply(lambda x: lemmatize(x))"
      ],
      "metadata": {
        "id": "8D5g4sA80sm3"
      },
      "execution_count": 37,
      "outputs": []
    },
    {
      "cell_type": "code",
      "source": [
        "train_data.text.sample(10)"
      ],
      "metadata": {
        "colab": {
          "base_uri": "https://localhost:8080/"
        },
        "id": "3spRBYYk1Jff",
        "outputId": "880f74ad-8056-4b53-abae-22258af0322c"
      },
      "execution_count": 38,
      "outputs": [
        {
          "output_type": "execute_result",
          "data": {
            "text/plain": [
              "3129    i a in the shower and i go to go change the so...\n",
              "4139    i think a lot of celebrity have to treat pal a...\n",
              "4220    be to dangle pierce crystal potentially hazard...\n",
              "191     twelve fear kill in pakistani air ambulance he...\n",
              "4546    how come scott rice do to get another shot hol...\n",
              "4673    well unfortunately for -PRON- follower stage p...\n",
              "6494          fuck sake john jesus -PRON- heart just sink\n",
              "6636    the terrorist try to get out of the car i shoo...\n",
              "5142         a little filming inside a nuclear reactor at\n",
              "4530     and -PRON- wonder why -PRON- a injure every year\n",
              "Name: text, dtype: object"
            ]
          },
          "metadata": {},
          "execution_count": 38
        }
      ]
    },
    {
      "cell_type": "code",
      "source": [
        "test_data.text.sample(10)"
      ],
      "metadata": {
        "colab": {
          "base_uri": "https://localhost:8080/"
        },
        "id": "SjSBEWZE1Mzo",
        "outputId": "b1da3bf6-c524-460d-bcc3-4248fb3625b5"
      },
      "execution_count": 39,
      "outputs": [
        {
          "output_type": "execute_result",
          "data": {
            "text/plain": [
              "2817    snacks snack snack snack be how -PRON- survive...\n",
              "1590    news on crew neighbour put out hewlett truck fire\n",
              "2134           for sale canadian military rifle drop once\n",
              "2374    drive home after a fairly large rainstorm make...\n",
              "1610    volunteer serve first responder today during a...\n",
              "2534                 i just scream to -PRON- because yeah\n",
              "47                                   in iceman aftershock\n",
              "395     the whole of new zealand be shout bloody marve...\n",
              "1996                             lava blast dan power red\n",
              "1258    what if the drought be just a giant marketing ...\n",
              "Name: text, dtype: object"
            ]
          },
          "metadata": {},
          "execution_count": 39
        }
      ]
    },
    {
      "cell_type": "markdown",
      "source": [
        "#### Stop Words Removal"
      ],
      "metadata": {
        "id": "Fr3PM0XU1RO6"
      }
    },
    {
      "cell_type": "code",
      "source": [
        "def remove_stopwords(sentence):\n",
        "  doc = nlp(sentence)\n",
        "  all_stopwords = nlp.Defaults.stop_words\n",
        "  doc_tokens = [token.text for token in doc]\n",
        "  tokens_without_sw = [word for word in doc_tokens if not word in all_stopwords]\n",
        "  return \" \".join(tokens_without_sw)"
      ],
      "metadata": {
        "id": "XJssEjra1g_7"
      },
      "execution_count": 40,
      "outputs": []
    },
    {
      "cell_type": "code",
      "source": [
        "train_data['text'] = train_data['text'].apply(lambda x: remove_stopwords(x))\n",
        "\n",
        "test_data['text'] = test_data['text'].apply(lambda x: remove_stopwords(x))"
      ],
      "metadata": {
        "id": "nbWeWKEN2n2G"
      },
      "execution_count": 41,
      "outputs": []
    },
    {
      "cell_type": "code",
      "source": [
        "train_data.text.sample(10)"
      ],
      "metadata": {
        "colab": {
          "base_uri": "https://localhost:8080/"
        },
        "id": "b03soJHe2ubh",
        "outputId": "45cff21a-ab09-461c-aa6c-896d0d465a81"
      },
      "execution_count": 42,
      "outputs": [
        {
          "output_type": "execute_result",
          "data": {
            "text/plain": [
              "6443    christian terrorist sure don suicide bombing e...\n",
              "353     build -PRON- kingdom lead -PRON- army victory ...\n",
              "3099    pakpattan city news man electrocute -PRON- cor...\n",
              "6690    flash thunder -PRON- quick amazon kindle soon ...\n",
              "7565                                   wreck tired asleep\n",
              "6865                        need plan trip cleveland soon\n",
              "2289                         imagine root -PRON- demolish\n",
              "5971                                          love scream\n",
              "4765       lightning strike de snow patrol de million sun\n",
              "5511                                  user sub quarantine\n",
              "Name: text, dtype: object"
            ]
          },
          "metadata": {},
          "execution_count": 42
        }
      ]
    },
    {
      "cell_type": "code",
      "source": [
        "test_data.text.sample(10)"
      ],
      "metadata": {
        "colab": {
          "base_uri": "https://localhost:8080/"
        },
        "id": "sbuQHHjN2vPT",
        "outputId": "11eb1390-79ee-49cb-e4ec-8c4372f6cb62"
      },
      "execution_count": 43,
      "outputs": [
        {
          "output_type": "execute_result",
          "data": {
            "text/plain": [
              "2981    pts research aim answer question leave future ...\n",
              "2198           -PRON- good cute kind cute want obliterate\n",
              "2145                      look like mudslide unreal scene\n",
              "2960    les win hospital -PRON- break -PRON- leg trap ...\n",
              "1528    radio free europe radio liberty ukraine famine...\n",
              "2759    google news suicide bomber kill saudi security...\n",
              "2620    helen model 295ss siren amplifier police emerg...\n",
              "3119    gene weapon -PRON- benefit doubt year huge bel...\n",
              "2939          -PRON- love tragedy -PRON- -PRON- remedyyyy\n",
              "2460                                wait date ill mag pax\n",
              "Name: text, dtype: object"
            ]
          },
          "metadata": {},
          "execution_count": 43
        }
      ]
    },
    {
      "cell_type": "markdown",
      "source": [
        "### 03.02. Build Vectors"
      ],
      "metadata": {
        "id": "A85nCn_G7B7a"
      }
    },
    {
      "cell_type": "code",
      "source": [
        "from sklearn import feature_extraction"
      ],
      "metadata": {
        "id": "8TJaYGDH7-XT"
      },
      "execution_count": 44,
      "outputs": []
    },
    {
      "cell_type": "code",
      "source": [
        "count_vectorizer = feature_extraction.text.CountVectorizer()"
      ],
      "metadata": {
        "id": "X2uNfzEC77o3"
      },
      "execution_count": 45,
      "outputs": []
    },
    {
      "cell_type": "code",
      "source": [
        "train_vectors = count_vectorizer.fit_transform(train_data.text)"
      ],
      "metadata": {
        "id": "W2iF7npn8TLW"
      },
      "execution_count": 46,
      "outputs": []
    },
    {
      "cell_type": "code",
      "source": [
        "print(train_vectors[88].shape)"
      ],
      "metadata": {
        "colab": {
          "base_uri": "https://localhost:8080/"
        },
        "id": "2wPgYU_c8k00",
        "outputId": "793bdd1b-d594-4521-8ec5-9763870069a5"
      },
      "execution_count": 47,
      "outputs": [
        {
          "output_type": "stream",
          "name": "stdout",
          "text": [
            "(1, 9177)\n"
          ]
        }
      ]
    },
    {
      "cell_type": "code",
      "source": [
        "test_vectors = count_vectorizer.transform(test_data[\"text\"])"
      ],
      "metadata": {
        "id": "RJHL5Uip87h0"
      },
      "execution_count": 48,
      "outputs": []
    },
    {
      "cell_type": "markdown",
      "source": [
        "## 04. Model"
      ],
      "metadata": {
        "id": "F0gGuLGm9HVO"
      }
    },
    {
      "cell_type": "code",
      "source": [
        "from sklearn import linear_model,model_selection\n",
        "clf = linear_model.LogisticRegression()"
      ],
      "metadata": {
        "id": "rqWjFyjC9KmA"
      },
      "execution_count": 49,
      "outputs": []
    },
    {
      "cell_type": "code",
      "source": [
        "scores = model_selection.cross_val_score(clf,train_vectors,train_data.target,cv = 3,scoring = \"f1\")"
      ],
      "metadata": {
        "id": "w7YebRBC9fx-"
      },
      "execution_count": 50,
      "outputs": []
    },
    {
      "cell_type": "code",
      "source": [
        "scores"
      ],
      "metadata": {
        "colab": {
          "base_uri": "https://localhost:8080/"
        },
        "id": "Mspd0r2E-IAe",
        "outputId": "d1f7a9c8-f4b6-4c6e-b0d5-51eecf3bda0a"
      },
      "execution_count": 51,
      "outputs": [
        {
          "output_type": "execute_result",
          "data": {
            "text/plain": [
              "array([0.61563518, 0.57836198, 0.66534063])"
            ]
          },
          "metadata": {},
          "execution_count": 51
        }
      ]
    },
    {
      "cell_type": "code",
      "source": [
        "clf.fit(train_vectors,train_data.target)"
      ],
      "metadata": {
        "colab": {
          "base_uri": "https://localhost:8080/"
        },
        "id": "CoffIm-cAWiZ",
        "outputId": "0f282bb8-ccfc-4b98-d73a-1897f3e0f8a5"
      },
      "execution_count": 52,
      "outputs": [
        {
          "output_type": "execute_result",
          "data": {
            "text/plain": [
              "LogisticRegression()"
            ]
          },
          "metadata": {},
          "execution_count": 52
        }
      ]
    },
    {
      "cell_type": "markdown",
      "source": [
        "## 05. Model Testing"
      ],
      "metadata": {
        "id": "Nvt4cGg3AAVO"
      }
    },
    {
      "cell_type": "code",
      "source": [
        "from sklearn.metrics import accuracy_score, classification_report, precision_score,recall_score"
      ],
      "metadata": {
        "id": "weM0b0IDA4O6"
      },
      "execution_count": 53,
      "outputs": []
    },
    {
      "cell_type": "code",
      "source": [
        "y_pred = clf.predict(test_vectors)\n"
      ],
      "metadata": {
        "id": "NlFXte5PAIKS"
      },
      "execution_count": 54,
      "outputs": []
    }
  ]
}